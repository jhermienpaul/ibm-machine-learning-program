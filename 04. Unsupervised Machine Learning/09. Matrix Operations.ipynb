{
  "cells": [
    {
      "cell_type": "markdown",
      "metadata": {},
      "source": [
        "<p style=\"text-align:center\">\n",
        "    <a href=\"https://skills.network/?utm_medium=Exinfluencer&utm_source=Exinfluencer&utm_content=000026UJ&utm_term=10006555&utm_id=NA-SkillsNetwork-Channel-SkillsNetworkCoursesIBMML0187ENSkillsNetwork31430127-2022-01-01\" target=\"_blank\">\n",
        "    <img src=\"https://cf-courses-data.s3.us.cloud-object-storage.appdomain.cloud/assets/logos/SN_web_lightmode.png\" width=\"200\" alt=\"Skills Network Logo\">\n",
        "    </a>\n",
        "</p>\n"
      ]
    },
    {
      "cell_type": "markdown",
      "metadata": {},
      "source": [
        "# Matrix Operations\n",
        "\n",
        "Estimated time needed: **45** minutes\n"
      ]
    },
    {
      "cell_type": "markdown",
      "metadata": {},
      "source": [
        "Matrix operations are a fundamental part of machine learning and many other fields, such as digital signal processing, optimization, control systems, and computer graphics. As a result, there has been a lot of work on optimizing matrix operations, not only in software, but also in hardware. Let's say that you work for an AI hardware  company, and that company has developed a new processor that can only perform matrix operations. The company needs you to implement some popular  statistics such as the mean, variance, and [Principle component analysis (PCA)](https://en.wikipedia.org/wiki/Principal_component_analysis) using matrix operations.\n"
      ]
    },
    {
      "cell_type": "markdown",
      "metadata": {},
      "source": [
        "<img src=\"https://cf-courses-data.s3.us.cloud-object-storage.appdomain.cloud/IBM-ML0187EN-SkillsNetwork/labs/module%203/images/technology-electronic-device-computer-hardware-computer-component-electronics-motherboard-personal-computer-hardware-cpu-computer-accessory-1536663.jpeg\" width=\"500\" alt=\"https://pxhere.com/en/photo/1536663\">\n"
      ]
    },
    {
      "cell_type": "markdown",
      "metadata": {},
      "source": [
        "## Table of Contents\n",
        "\n",
        "<ol>\n",
        "    <li><a href=\"#Objectives\">Objectives</a></li>\n",
        "    <li>\n",
        "        <a href=\"#Setup\">Setup</a>\n",
        "        <ol>\n",
        "            <li><a href=\"#Installing-required-libraries\">Installing required libraries</a></li>\n",
        "            <li><a href=\"#Importing-required-libraries\">Importing required libraries</a></li>\n",
        "            <li><a href=\"#Defining-helper-functions\">Defining helper gunctions</a></li>\n",
        "        </ol>\n",
        "    </li>\n",
        "    <li>\n",
        "        <a href=\"#Basics-of-Matrices\">Basics of matrices</a>\n",
        "        <ol>\n",
        "            <li><a href=\"#What%27s-a-Matrix?\">What's a matrix? </a></li>\n",
        "            <li><a href=\"#Rank-of-a-Matrix\">Rank of a matrix </a></li>\n",
        "            <li><a href=\"#Frobenius-Norm-of-a-Matrix\">Frobenius norm of a matrix</a></li>\n",
        "            <li><a href=\"#Matrix-Addition\"> Matrix addition</a></li>\n",
        "        </ol>\n",
        "    </li>\n",
        "  <li>\n",
        "        <a href=\"#Matrix-and-Vector-Multiplication\">Matrix and vector multiplication</a>\n",
        "        <ol>\n",
        "            <li><a href=\"#Dot-product\"> Dot product </a></li>\n",
        "            <li><a href=\"#The-outer-product\">The outer product</a></li>\n",
        "            <li><a href=\"#Matrix-and-vector-multiplication\">Matrix and vector multiplication</a></li>\n",
        "            <li><a href=\"#Multiplying-matrices\">Multiplying matrices</a></li>\n",
        "     </ol>\n",
        "   </li>\n",
        "   <li>\n",
        "        <a href=\"#Eigen-decomposition\">Eigen-decomposition</a>\n",
        "        <ol>\n",
        "            <li><a href=\"#Eigenvectors-and-Eigenvalues\"> Eigenvectors and Eigenvalues </a></li>\n",
        "            <li><a href=\"#Factorization-for-PCA\">Factorization for PCA</a></li>\n",
        "        </ol>     \n",
        "   </li>\n",
        "\n",
        " </ol>    \n"
      ]
    },
    {
      "cell_type": "markdown",
      "metadata": {},
      "source": [
        "***\n"
      ]
    },
    {
      "cell_type": "markdown",
      "metadata": {},
      "source": [
        "## Objectives\n",
        "\n",
        "After completing this lab, you understand:\n",
        "\n",
        "*   Basic matrix operations such as matrix addition, vector multiplication, and Eigen decomposition\n",
        "\n",
        "*   How to apply these matrix operations using NumPy\n"
      ]
    },
    {
      "cell_type": "markdown",
      "metadata": {},
      "source": [
        "## Setup\n"
      ]
    },
    {
      "cell_type": "markdown",
      "metadata": {},
      "source": [
        "This lab uses the following libraries:\n",
        "\n",
        "*   [`NumPy`](https://numpy.org/?utm_medium=Exinfluencer&utm_source=Exinfluencer&utm_content=000026UJ&utm_term=10006555&utm_id=NA-SkillsNetwork-Channel-SkillsNetworkCoursesIBMML240ENSkillsNetwork34171862-2022-01-01) for mathematical operations\n",
        "*   [`Matplotlib`](https://matplotlib.org/?utm_medium=Exinfluencer&utm_source=Exinfluencer&utm_content=000026UJ&utm_term=10006555&utm_id=NA-SkillsNetwork-Channel-SkillsNetworkCoursesIBMML240ENSkillsNetwork34171862-2022-01-01) for visualizing the data\n",
        "*   [`sklearn`](https://scikit-learn.org/stable/?utm_medium=Exinfluencer&utm_source=Exinfluencer&utm_content=000026UJ&utm_term=10006555&utm_id=NA-SkillsNetwork-Channel-SkillsNetworkCoursesIBMML240ENSkillsNetwork34171862-2022-01-01) for machine learning and machine learning pipeline-related functions\n"
      ]
    },
    {
      "cell_type": "markdown",
      "metadata": {},
      "source": [
        "### Installing required libraries\n"
      ]
    },
    {
      "cell_type": "markdown",
      "metadata": {},
      "source": [
        "The following required modules are pre-installed in the Skills Network Labs environment. However, if you run this notebook's commands in a different Jupyter environment (for example, Watson Studio or Ananconda) you must install these libraries by removing the `#` sign before `!mamba` in the following code cell.\n"
      ]
    },
    {
      "cell_type": "code",
      "execution_count": 1,
      "metadata": {
        "trusted": true
      },
      "outputs": [],
      "source": [
        "# All Libraries required for this lab are listed below. The libraries pre-installed on Skills Network Labs are commented.\n",
        "# !mamba install -qy pandas==1.3.4 numpy==1.21.4 seaborn==0.9.0 matplotlib==3.5.0 scikit-learn==0.20.1\n",
        "# Note: If your environment doesn't support \"!mamba install\", use \"!pip install pandas ==1.3.4 ...\""
      ]
    },
    {
      "cell_type": "markdown",
      "metadata": {},
      "source": [
        "You can install and use  <a href=\"https://www.sympy.org/en/index.html?utm_medium=Exinfluencer&utm_source=Exinfluencer&utm_content=000026UJ&utm_term=10006555&utm_id=NA-SkillsNetwork-Channel-SkillsNetworkCoursesIBMML0187ENSkillsNetwork31430127-2022-01-01\">SymPy </a> to print matrices by using the following `conda` command.\n"
      ]
    },
    {
      "cell_type": "code",
      "execution_count": 2,
      "metadata": {
        "trusted": true
      },
      "outputs": [],
      "source": [
        "#!conda install -c anaconda sympy -y"
      ]
    },
    {
      "cell_type": "markdown",
      "metadata": {},
      "source": [
        "### Importing required libraries\n"
      ]
    },
    {
      "cell_type": "code",
      "execution_count": 3,
      "metadata": {
        "trusted": true
      },
      "outputs": [],
      "source": [
        "# Surpress warnings from using older version of sklearn:\n",
        "def warn(*args, **kwargs):\n",
        "    pass\n",
        "import warnings\n",
        "warnings.warn = warn\n",
        "\n",
        "import numpy as np \n",
        "import matplotlib.pylab as plt\n",
        "\n",
        "from sklearn.decomposition import PCA\n",
        "from sympy import Matrix, init_printing,Symbol\n",
        "from numpy.linalg import qr,eig,inv,matrix_rank,inv, norm\n",
        "from scipy.linalg import null_space\n",
        "init_printing()"
      ]
    },
    {
      "cell_type": "markdown",
      "metadata": {},
      "source": [
        "### Defining helper functions\n",
        "\n",
        "Use this section to define any helper functions to help the readability of the notebook's code.\n"
      ]
    },
    {
      "cell_type": "code",
      "execution_count": 4,
      "metadata": {
        "trusted": true
      },
      "outputs": [],
      "source": [
        "def plot_2da(dict_):\n",
        "    for key, value in dict_.items():\n",
        "        plt.scatter(value[:, 0], value[:, 1],label=key)\n",
        "    plt.legend()\n",
        "    plt.show()\n",
        "    \n",
        "def plot_2db(dict_):\n",
        "    for key, value in dict_.items():\n",
        "        if value.shape[0]>2:\n",
        "            plt.scatter(value[:, 0], value[:, 1],label=key)\n",
        "        else:\n",
        "            print(value)\n",
        "            plt.quiver([0],[0],value[:,0],value[:,1],label=key)\n",
        "    plt.legend()\n",
        "    plt.show()"
      ]
    },
    {
      "cell_type": "markdown",
      "metadata": {},
      "source": [
        "## Basics of matrices\n"
      ]
    },
    {
      "cell_type": "markdown",
      "metadata": {},
      "source": [
        "### What's a matrix?\n"
      ]
    },
    {
      "cell_type": "markdown",
      "metadata": {},
      "source": [
        "A matrix is just a horizontal stack of columns vectors or a vertical stack of row vectors. For example, a two-column matrix $\\mathbf{A}$ can be written as a horizontal stack of its two columns: $\\mathbf{A}=[\\mathbf{a}_{1},\\mathbf{a}_{2}]$, where $\\mathbf{a}_{i}$ is a column vector. `NumPy` treats matrix objects as NumPy arrays. You can use the `Matrix` function from `SymPy` to print matrices in a nice way.\n"
      ]
    },
    {
      "cell_type": "code",
      "execution_count": 5,
      "metadata": {
        "trusted": true
      },
      "outputs": [
        {
          "data": {
            "text/latex": [
              "$\\displaystyle \\left[\\begin{matrix}2 & -3\\\\4 & 7\\end{matrix}\\right]$"
            ],
            "text/plain": [
              "⎡2  -3⎤\n",
              "⎢     ⎥\n",
              "⎣4  7 ⎦"
            ]
          },
          "execution_count": 5,
          "metadata": {},
          "output_type": "execute_result"
        }
      ],
      "source": [
        "A=np.array([[2,-3],[4,7]])\n",
        "\n",
        "Matrix(A)"
      ]
    },
    {
      "cell_type": "markdown",
      "metadata": {},
      "source": [
        "**Note**: In this particular case, matrix $\\mathbf{A}$ is a <b>square matrix</b> because it has an equal number of rows and columns.\n"
      ]
    },
    {
      "cell_type": "markdown",
      "metadata": {},
      "source": [
        "You can subset matrix $\\mathbf{A}$ to pull out column vectors $\\mathbf{a}_{1}$ and $\\mathbf{a}_{2}$ using `NumPy`'s indexing syntax.\n"
      ]
    },
    {
      "cell_type": "code",
      "execution_count": 6,
      "metadata": {
        "trusted": true
      },
      "outputs": [
        {
          "data": {
            "text/plain": [
              "array([2, 4])"
            ]
          },
          "execution_count": 6,
          "metadata": {},
          "output_type": "execute_result"
        }
      ],
      "source": [
        "a1=A[:,0]\n",
        "a1"
      ]
    },
    {
      "cell_type": "code",
      "execution_count": 7,
      "metadata": {
        "trusted": true
      },
      "outputs": [
        {
          "data": {
            "text/plain": [
              "array([-3,  7])"
            ]
          },
          "execution_count": 7,
          "metadata": {},
          "output_type": "execute_result"
        }
      ],
      "source": [
        "a2=A[:,1]\n",
        "a2"
      ]
    },
    {
      "cell_type": "markdown",
      "metadata": {},
      "source": [
        "A transpose of a matrix, denoted by $\\mathbf{A}^{T}$, switches the row and column indices of the matrix. In `NumPy` you can transpose matrix $\\mathbf{A}$ as follows:\n"
      ]
    },
    {
      "cell_type": "code",
      "execution_count": 8,
      "metadata": {
        "trusted": true
      },
      "outputs": [
        {
          "data": {
            "text/latex": [
              "$\\displaystyle \\left[\\begin{matrix}2 & 4\\\\-3 & 7\\end{matrix}\\right]$"
            ],
            "text/plain": [
              "⎡2   4⎤\n",
              "⎢     ⎥\n",
              "⎣-3  7⎦"
            ]
          },
          "execution_count": 8,
          "metadata": {},
          "output_type": "execute_result"
        }
      ],
      "source": [
        "AT=A.T\n",
        "Matrix(AT)"
      ]
    },
    {
      "cell_type": "markdown",
      "metadata": {},
      "source": [
        "### Rank of a matrix\n"
      ]
    },
    {
      "cell_type": "markdown",
      "metadata": {},
      "source": [
        "The rank of a matrix is the number of dimensions the rows of the matrix \"live in.\"  A square matrix is said to be **full rank** if its <a href='https://en.wikipedia.org/wiki/Rank_(linear_algebra)?utm_medium=Exinfluencer&utm_source=Exinfluencer&utm_content=000026UJ&utm_term=10006555&utm_id=NA-SkillsNetwork-Channel-SkillsNetworkCoursesIBMML0187ENSkillsNetwork31430127-2022-01-01'>rank</a> is equal to the number of its rows or columns. Using `NumPy`, you can find the rank of a matrix using:\n"
      ]
    },
    {
      "cell_type": "code",
      "execution_count": 9,
      "metadata": {
        "trusted": true
      },
      "outputs": [
        {
          "data": {
            "text/plain": [
              "2"
            ]
          },
          "execution_count": 9,
          "metadata": {},
          "output_type": "execute_result"
        }
      ],
      "source": [
        "matrix_rank(A)"
      ]
    },
    {
      "cell_type": "markdown",
      "metadata": {},
      "source": [
        "You can also plot the columns of matrix $\\mathbf{A}$ as vectors.\n"
      ]
    },
    {
      "cell_type": "code",
      "execution_count": 10,
      "metadata": {
        "trusted": true
      },
      "outputs": [
        {
          "data": {
            "image/png": "[encoded data removed]",
            "text/plain": [
              "<Figure size 1200x700 with 1 Axes>"
            ]
          },
          "metadata": {},
          "output_type": "display_data"
        }
      ],
      "source": [
        "fig, ax = plt.subplots(figsize=(12, 7))\n",
        "\n",
        "ax.quiver([0, 0], [0, 0], A[0, 0], A[1, 0], scale=30, label=r\"$\\mathbf{a}_{1}$\")\n",
        "ax.quiver([0, 0], [0, 0], A[0, 1], A[1, 1], scale=30, label=r\"$\\mathbf{a}_{2}$\", color='red')\n",
        "plt.title(r\"columns of $\\mathbf{A}$\")\n",
        "plt.legend()\n",
        "plt.show()"
      ]
    },
    {
      "cell_type": "markdown",
      "metadata": {},
      "source": [
        "Because the vectors are not parallel, you can define any point on the 2d space as a scaled  combination of those two vectors.\n",
        "\n",
        "If any of the columns in a matrix are multiples of each other, the vectors point in the same direction and the matrix is not full rank (in other words, the matrix is **rank-deficient**). Vectors point in the same direction if one of the vectors is a linear combination of another.\n"
      ]
    },
    {
      "cell_type": "code",
      "execution_count": 11,
      "metadata": {
        "trusted": true
      },
      "outputs": [
        {
          "data": {
            "text/plain": [
              "1"
            ]
          },
          "execution_count": 11,
          "metadata": {},
          "output_type": "execute_result"
        }
      ],
      "source": [
        "F=np.array([[2,4],[4,8]])\n",
        "matrix_rank(F)"
      ]
    },
    {
      "cell_type": "markdown",
      "metadata": {},
      "source": [
        "You can graph the vectors to see them pointing in the same direction.\n"
      ]
    },
    {
      "cell_type": "code",
      "execution_count": 12,
      "metadata": {
        "trusted": true
      },
      "outputs": [
        {
          "data": {
            "image/png": "[encoded data removed]",
            "text/plain": [
              "<Figure size 1200x700 with 1 Axes>"
            ]
          },
          "metadata": {},
          "output_type": "display_data"
        }
      ],
      "source": [
        "fig, ax = plt.subplots(figsize = (12, 7))\n",
        "ax.quiver([0, 0],[0, 0],F[0,1], F[1,1],scale=30,label=r\"$\\mathbf{f}_{2}$\",color='red')\n",
        "ax.quiver([0, 0],[0, 0],F[0,0], F[1,0],scale=30,label=r\"$\\mathbf{f}_{1}$\")\n",
        "plt.title(r\"columns of $\\mathbf{F}$ \")\n",
        "plt.legend()\n",
        "plt.show()"
      ]
    },
    {
      "cell_type": "markdown",
      "metadata": {},
      "source": [
        "Of course, rank deficiency can also occur if a column is a linear combination of several columns. For example:\n"
      ]
    },
    {
      "cell_type": "code",
      "execution_count": 13,
      "metadata": {
        "trusted": true
      },
      "outputs": [
        {
          "data": {
            "text/plain": [
              "2"
            ]
          },
          "execution_count": 13,
          "metadata": {},
          "output_type": "execute_result"
        }
      ],
      "source": [
        "G=np.array([[2,4,6],[6,4,2],[16,16,16]])\n",
        "matrix_rank(G)"
      ]
    },
    {
      "cell_type": "markdown",
      "metadata": {},
      "source": [
        "In this case, $ \\mathbf{g}_3 = 2 \\mathbf{g}_1 + 2 \\mathbf{g}_2 $.\n"
      ]
    },
    {
      "cell_type": "markdown",
      "metadata": {},
      "source": [
        "Although a matrix that has more columns than rows is possible, a more common occurrence in data science is a matrix that has more rows than columns. Consider the matrix $\\mathbf{F}$:\n"
      ]
    },
    {
      "cell_type": "code",
      "execution_count": 14,
      "metadata": {
        "trusted": true
      },
      "outputs": [
        {
          "data": {
            "text/latex": [
              "$\\displaystyle \\left[\\begin{matrix}1 & 2\\\\1 & -2\\\\-1 & 1\\end{matrix}\\right]$"
            ],
            "text/plain": [
              "⎡1   2 ⎤\n",
              "⎢      ⎥\n",
              "⎢1   -2⎥\n",
              "⎢      ⎥\n",
              "⎣-1  1 ⎦"
            ]
          },
          "execution_count": 14,
          "metadata": {},
          "output_type": "execute_result"
        }
      ],
      "source": [
        "F=np.array([[1,2],[1,-2],[-1,1]])\n",
        "Matrix(F)"
      ]
    },
    {
      "cell_type": "markdown",
      "metadata": {},
      "source": [
        "Although there are 3 rows in matrix $\\mathbf{F}$, you can only describe a point lying on a 2D plane, as shown in the following example.\n"
      ]
    },
    {
      "cell_type": "code",
      "execution_count": 15,
      "metadata": {
        "trusted": true
      },
      "outputs": [
        {
          "data": {
            "image/png": "[encoded data removed]",
            "text/plain": [
              "<Figure size 640x480 with 1 Axes>"
            ]
          },
          "metadata": {},
          "output_type": "display_data"
        }
      ],
      "source": [
        "ax = plt.figure().add_subplot(projection='3d')\n",
        "p=null_space(F.T)\n",
        "xx, yy = np.meshgrid(np.arange(-3,3,0.1), np.arange(-3,3,0.1))\n",
        "z=(p[0]*xx+p[1]*yy)/p[2]\n",
        "ax.plot_surface(xx, yy, z, alpha=0.1)\n",
        "ax.quiver([0,0], [0,0], [0,0], F[0,:], F[1,:], F[2,:])\n",
        "\n",
        "ax.set_xlim([-3, 3])\n",
        "ax.set_ylim([-3, 3])\n",
        "ax.set_zlim([-3, 3])\n",
        "plt.show()"
      ]
    },
    {
      "cell_type": "markdown",
      "metadata": {},
      "source": [
        "Therefore, the rank of such a matrix is 2. You can verify this using `NumPy`.\n"
      ]
    },
    {
      "cell_type": "code",
      "execution_count": 16,
      "metadata": {
        "trusted": true
      },
      "outputs": [
        {
          "data": {
            "text/plain": [
              "2"
            ]
          },
          "execution_count": 16,
          "metadata": {},
          "output_type": "execute_result"
        }
      ],
      "source": [
        "matrix_rank(F)"
      ]
    },
    {
      "cell_type": "markdown",
      "metadata": {},
      "source": [
        "### Frobenius norm of a matrix\n"
      ]
    },
    {
      "cell_type": "markdown",
      "metadata": {},
      "source": [
        "The **Frobenius norm**, sometimes called the **Euclidean norm**, is the matrix norm of an $m×n$ matrix $\\mathbf{A}$, where matrix $\\mathbf{A}$ is defined as the square root of the sum of the absolute squares of its elements.\n",
        "\n",
        "$$||\\mathbf{A}||_F = \\sqrt{\\sum_{i=1}^m \\sum_{j=1}^n |a_{ij}|^2}$$\n",
        "\n",
        "Reusing matrix $\\mathbf{A}$ that was defined above:\n"
      ]
    },
    {
      "cell_type": "code",
      "execution_count": 17,
      "metadata": {
        "trusted": true
      },
      "outputs": [
        {
          "data": {
            "text/latex": [
              "$\\displaystyle \\left( \\left[\\begin{matrix}2 & -3\\\\4 & 7\\end{matrix}\\right], \\  8.83176086632785\\right)$"
            ],
            "text/plain": [
              "⎛⎡2  -3⎤                   ⎞\n",
              "⎜⎢     ⎥, 8.831760866327848⎟\n",
              "⎝⎣4  7 ⎦                   ⎠"
            ]
          },
          "execution_count": 17,
          "metadata": {},
          "output_type": "execute_result"
        }
      ],
      "source": [
        "Matrix(A), norm(A)"
      ]
    },
    {
      "cell_type": "markdown",
      "metadata": {},
      "source": [
        "The matrix norm can also be calculated manually using the provided formula\n"
      ]
    },
    {
      "cell_type": "code",
      "execution_count": 18,
      "metadata": {
        "trusted": true
      },
      "outputs": [
        {
          "data": {
            "image/png": "[encoded data removed]",
            "text/latex": [
              "$\\displaystyle 8.83176086632785$"
            ],
            "text/plain": [
              "8.831760866327848"
            ]
          },
          "execution_count": 18,
          "metadata": {},
          "output_type": "execute_result"
        }
      ],
      "source": [
        "m, n = A.shape[0], A.shape[1] # get number of rows and columns \n",
        "sumsquares = 0\n",
        "\n",
        "for i in range(m):\n",
        "    for j in range(n):\n",
        "        sumsquares += A[i,j] ** 2\n",
        "np.sqrt(sumsquares)"
      ]
    },
    {
      "cell_type": "markdown",
      "metadata": {},
      "source": [
        "### Matrix ddition\n"
      ]
    },
    {
      "cell_type": "markdown",
      "metadata": {},
      "source": [
        "Addition is only defined for two matrices that have an equal number of rows and columns. Consider two matrices $\\mathbf{A}$ and $\\mathbf{B}$:\n"
      ]
    },
    {
      "cell_type": "markdown",
      "metadata": {},
      "source": [
        "$\\begin{align}\n",
        "\\mathbf{A}= \\begin{bmatrix}\n",
        "a_{11} & a_{12} & \\cdots & a_{1n} \\\\\\\\\\\\\n",
        "a_{21} & a_{22} & \\cdots & a_{2n} \\\\\\\\\n",
        "\\vdots & \\vdots & \\ddots & \\vdots \\\\\\\\\n",
        "a_{m1} & a_{m2} & \\cdots & a_{mn} \\\\\\\\\n",
        "\\end{bmatrix}\n",
        "\\end{align}$\n",
        "$\\begin{align}\n",
        "\\mathbf{B}=\\begin{bmatrix}\n",
        "b_{11} & b_{12} & \\cdots & b_{1n} \\\\\\\\\n",
        "b_{21} & b_{22} & \\cdots & b_{2n} \\\\\\\\\n",
        "\\vdots & \\vdots & \\ddots & \\vdots \\\\\\\\\n",
        "b_{m1} & b_{m2} & \\cdots & b_{mn} \\\\\\\\\n",
        "\\end{bmatrix}\n",
        "\\end{align}$\n"
      ]
    },
    {
      "cell_type": "markdown",
      "metadata": {},
      "source": [
        "To perform the addition, you add elements that have identical row and column indices.\n"
      ]
    },
    {
      "cell_type": "markdown",
      "metadata": {},
      "source": [
        "$\\begin{align}\n",
        "\\mathbf{A}+\\mathbf{B}=\\begin{bmatrix}\n",
        "a_{11} + b_{11} & a_{12} + b_{12} & \\cdots & a_{1n} + b_{1n} \\\\\\\\\\\\\n",
        "a_{21} + b_{21} & a_{22} + b_{22} & \\cdots & a_{2n} + b_{2n} \\\\\\\\\n",
        "\\vdots & \\vdots & \\ddots & \\vdots \\\\\\\\\n",
        "a_{m1} + b_{m1} & a_{m2} + b_{m2} & \\cdots & a_{mn} + b_{mn} \\\\\\\\\n",
        "\\end{bmatrix}\n",
        "\\end{align}$\n"
      ]
    },
    {
      "cell_type": "markdown",
      "metadata": {},
      "source": [
        "In `NumPy`, if you reuse matrix $\\mathbf{A}$ from before and define matrix $\\mathbf{B}$ as follows:\n"
      ]
    },
    {
      "cell_type": "code",
      "execution_count": 19,
      "metadata": {
        "trusted": true
      },
      "outputs": [
        {
          "data": {
            "text/latex": [
              "$\\displaystyle \\left[\\begin{matrix}1 & 1\\\\1 & -1\\end{matrix}\\right]$"
            ],
            "text/plain": [
              "⎡1  1 ⎤\n",
              "⎢     ⎥\n",
              "⎣1  -1⎦"
            ]
          },
          "execution_count": 19,
          "metadata": {},
          "output_type": "execute_result"
        }
      ],
      "source": [
        "B=np.array([[1,1],[1,-1]])\n",
        "Matrix(B)"
      ]
    },
    {
      "cell_type": "markdown",
      "metadata": {},
      "source": [
        "you can perform the addition using:\n"
      ]
    },
    {
      "cell_type": "code",
      "execution_count": 20,
      "metadata": {
        "trusted": true
      },
      "outputs": [
        {
          "data": {
            "text/latex": [
              "$\\displaystyle \\left[\\begin{matrix}3 & -2\\\\5 & 6\\end{matrix}\\right]$"
            ],
            "text/plain": [
              "⎡3  -2⎤\n",
              "⎢     ⎥\n",
              "⎣5  6 ⎦"
            ]
          },
          "execution_count": 20,
          "metadata": {},
          "output_type": "execute_result"
        }
      ],
      "source": [
        "C=A+B\n",
        "Matrix(C)"
      ]
    },
    {
      "cell_type": "markdown",
      "metadata": {},
      "source": [
        "Matrix $\\mathbf{B}$ defined previously is **symmetric**. This means that $\\mathbf{B}=\\mathbf{B}^{T}$. You can verify this using Python.\n"
      ]
    },
    {
      "cell_type": "code",
      "execution_count": 21,
      "metadata": {
        "trusted": true
      },
      "outputs": [
        {
          "data": {
            "text/latex": [
              "$\\displaystyle \\left[\\begin{matrix}1 & 1\\\\1 & -1\\end{matrix}\\right]$"
            ],
            "text/plain": [
              "⎡1  1 ⎤\n",
              "⎢     ⎥\n",
              "⎣1  -1⎦"
            ]
          },
          "execution_count": 21,
          "metadata": {},
          "output_type": "execute_result"
        }
      ],
      "source": [
        "B_T=B.T\n",
        "Matrix(B_T)"
      ]
    },
    {
      "cell_type": "markdown",
      "metadata": {},
      "source": [
        "A symmetric matrix $\\mathbf{S}$ can be created using $\\mathbf{S}=\\mathbf{C}+\\mathbf{C}^T$, where $\\mathbf{C}$ is any matrix.\n"
      ]
    },
    {
      "cell_type": "code",
      "execution_count": 22,
      "metadata": {
        "trusted": true
      },
      "outputs": [],
      "source": [
        "C=np.random.randn(2,2)\n",
        "S=C+C.T"
      ]
    },
    {
      "cell_type": "code",
      "execution_count": 23,
      "metadata": {
        "trusted": true
      },
      "outputs": [
        {
          "data": {
            "text/latex": [
              "$\\displaystyle \\left[\\begin{matrix}-4.08311532602289 & 0.310632149962155\\\\0.310632149962155 & -2.71976702283705\\end{matrix}\\right]$"
            ],
            "text/plain": [
              "⎡-4.08311532602289  0.310632149962155⎤\n",
              "⎢                                    ⎥\n",
              "⎣0.310632149962155  -2.71976702283705⎦"
            ]
          },
          "execution_count": 23,
          "metadata": {},
          "output_type": "execute_result"
        }
      ],
      "source": [
        "Matrix(S)"
      ]
    },
    {
      "cell_type": "code",
      "execution_count": 24,
      "metadata": {
        "trusted": true
      },
      "outputs": [
        {
          "data": {
            "text/latex": [
              "$\\displaystyle \\left[\\begin{matrix}-4.08311532602289 & 0.310632149962155\\\\0.310632149962155 & -2.71976702283705\\end{matrix}\\right]$"
            ],
            "text/plain": [
              "⎡-4.08311532602289  0.310632149962155⎤\n",
              "⎢                                    ⎥\n",
              "⎣0.310632149962155  -2.71976702283705⎦"
            ]
          },
          "execution_count": 24,
          "metadata": {},
          "output_type": "execute_result"
        }
      ],
      "source": [
        "Matrix(S.T)"
      ]
    },
    {
      "cell_type": "markdown",
      "metadata": {},
      "source": [
        "A <b>diagonal matrix</b> is a matrix in which the entries off the main diagonal are all zero.\n"
      ]
    },
    {
      "cell_type": "code",
      "execution_count": 25,
      "metadata": {
        "trusted": true
      },
      "outputs": [
        {
          "data": {
            "text/latex": [
              "$\\displaystyle \\left[\\begin{matrix}1 & 0 & 0\\\\0 & 2 & 0\\\\0 & 0 & 3\\end{matrix}\\right]$"
            ],
            "text/plain": [
              "⎡1  0  0⎤\n",
              "⎢       ⎥\n",
              "⎢0  2  0⎥\n",
              "⎢       ⎥\n",
              "⎣0  0  3⎦"
            ]
          },
          "execution_count": 25,
          "metadata": {},
          "output_type": "execute_result"
        }
      ],
      "source": [
        "Matrix(np.diag(np.array([1,2,3])))"
      ]
    },
    {
      "cell_type": "markdown",
      "metadata": {},
      "source": [
        "A matrix where all entries on the main diagonal are equal to one and all the entries off the main diagonal are zero is called an **identity matrix**. In `NumPy`, an identity matrix can be created by using:\n"
      ]
    },
    {
      "cell_type": "code",
      "execution_count": 26,
      "metadata": {
        "trusted": true
      },
      "outputs": [
        {
          "data": {
            "text/latex": [
              "$\\displaystyle \\left[\\begin{matrix}1 & 0 & 0\\\\0 & 1 & 0\\\\0 & 0 & 1\\end{matrix}\\right]$"
            ],
            "text/plain": [
              "⎡1  0  0⎤\n",
              "⎢       ⎥\n",
              "⎢0  1  0⎥\n",
              "⎢       ⎥\n",
              "⎣0  0  1⎦"
            ]
          },
          "execution_count": 26,
          "metadata": {},
          "output_type": "execute_result"
        }
      ],
      "source": [
        "Matrix(np.eye(3).astype(int))"
      ]
    },
    {
      "cell_type": "markdown",
      "metadata": {},
      "source": [
        "## Matrix and vector multiplication\n"
      ]
    },
    {
      "cell_type": "markdown",
      "metadata": {},
      "source": [
        "### Dot product\n"
      ]
    },
    {
      "cell_type": "markdown",
      "metadata": {},
      "source": [
        "Given two equal length column vectors $\\mathbf{a}$ and $\\mathbf{b}$, you can define their dot product as:\n"
      ]
    },
    {
      "cell_type": "markdown",
      "metadata": {},
      "source": [
        "$ \\mathbf{a}^T \\cdot \\mathbf{b} = \\mathbf{a}^T  \\mathbf{b} = \\sum_{i=1}^n a_i b_i = a_1 b_1 + \\cdots + a_n b_n$\n"
      ]
    },
    {
      "cell_type": "markdown",
      "metadata": {},
      "source": [
        "Vectors in `NumPy` can be defined as one-dimensional arrays.\n"
      ]
    },
    {
      "cell_type": "code",
      "execution_count": 27,
      "metadata": {
        "trusted": true
      },
      "outputs": [
        {
          "data": {
            "text/latex": [
              "$\\displaystyle \\left[\\begin{matrix}1\\\\1\\end{matrix}\\right]$"
            ],
            "text/plain": [
              "⎡1⎤\n",
              "⎢ ⎥\n",
              "⎣1⎦"
            ]
          },
          "execution_count": 27,
          "metadata": {},
          "output_type": "execute_result"
        }
      ],
      "source": [
        "a=np.array([1,1])\n",
        "b=np.array([1,2])\n",
        "Matrix(a)"
      ]
    },
    {
      "cell_type": "markdown",
      "metadata": {},
      "source": [
        "To verify that the dimension of a vector is indeed one, use:\n"
      ]
    },
    {
      "cell_type": "code",
      "execution_count": 28,
      "metadata": {
        "trusted": true
      },
      "outputs": [
        {
          "data": {
            "image/png": "[encoded data removed]",
            "text/latex": [
              "$\\displaystyle 1$"
            ],
            "text/plain": [
              "1"
            ]
          },
          "execution_count": 28,
          "metadata": {},
          "output_type": "execute_result"
        }
      ],
      "source": [
        "a.ndim"
      ]
    },
    {
      "cell_type": "markdown",
      "metadata": {},
      "source": [
        "And, to find the dot product, use:\n"
      ]
    },
    {
      "cell_type": "code",
      "execution_count": 29,
      "metadata": {
        "trusted": true
      },
      "outputs": [
        {
          "data": {
            "text/plain": [
              "3"
            ]
          },
          "execution_count": 29,
          "metadata": {},
          "output_type": "execute_result"
        }
      ],
      "source": [
        "a.T@b"
      ]
    },
    {
      "cell_type": "markdown",
      "metadata": {},
      "source": [
        "### Exercise 1\n",
        "\n",
        "Calculate the dot product of vectors $\\mathbf{a}$ and $\\mathbf{one}$.\n"
      ]
    },
    {
      "cell_type": "code",
      "execution_count": 30,
      "metadata": {
        "trusted": true
      },
      "outputs": [
        {
          "data": {
            "image/png": "[encoded data removed]",
            "text/latex": [
              "$\\displaystyle 2.0$"
            ],
            "text/plain": [
              "2.0"
            ]
          },
          "execution_count": 30,
          "metadata": {},
          "output_type": "execute_result"
        }
      ],
      "source": [
        "one=np.ones(2)\n",
        "\n",
        "a.T@one"
      ]
    },
    {
      "cell_type": "markdown",
      "metadata": {},
      "source": [
        "### The outer product\n"
      ]
    },
    {
      "cell_type": "markdown",
      "metadata": {},
      "source": [
        "The outer product is another useful matrix operation. Consider a vector $ \\mathbf{u}$ of size $m \\times 1$ and a vector $\\mathbf{v}$ of size $n \\times 1$. Then, their outer product is:\n"
      ]
    },
    {
      "cell_type": "markdown",
      "metadata": {},
      "source": [
        "$\n",
        "\\mathbf{u} \\otimes \\mathbf{v} = \\mathbf{u}\\mathbf{v}^\\textsf{T} =\n",
        "\\begin{bmatrix}u_1 \\\\\\\\\\\\ u_2 \\\\ \\vdots \\\\ u_m\\end{bmatrix}\n",
        "\\begin{bmatrix}v_1 & v_2 & ... & v_n\\end{bmatrix} =\n",
        "\\begin{bmatrix}\n",
        "u_1 v_1 & u_1 v_2 & ... & u_1 v_n\\\\\\\\\n",
        "u_2 v_1 & u_2 v_2 & ... & u_2 v_n \\\\\\\\\n",
        "\\vdots & \\vdots  & \\ddots & \\vdots \\\\\\\\\n",
        "u_m v_1 & u_m v_2 &  ... & u_m v_n\n",
        "\\end{bmatrix}\n",
        "$\n"
      ]
    },
    {
      "cell_type": "markdown",
      "metadata": {},
      "source": [
        "You can perform the outer product in `NumPy` as follows:\n"
      ]
    },
    {
      "cell_type": "code",
      "execution_count": 31,
      "metadata": {
        "trusted": true
      },
      "outputs": [
        {
          "data": {
            "text/latex": [
              "$\\displaystyle \\left[\\begin{matrix}0 & 1 & 2 & 3 & 6\\\\0 & 2 & 4 & 6 & 12\\\\0 & 3 & 6 & 9 & 18\\\\0 & 4 & 8 & 12 & 24\\end{matrix}\\right]$"
            ],
            "text/plain": [
              "⎡0  1  2  3   6 ⎤\n",
              "⎢               ⎥\n",
              "⎢0  2  4  6   12⎥\n",
              "⎢               ⎥\n",
              "⎢0  3  6  9   18⎥\n",
              "⎢               ⎥\n",
              "⎣0  4  8  12  24⎦"
            ]
          },
          "execution_count": 31,
          "metadata": {},
          "output_type": "execute_result"
        }
      ],
      "source": [
        "u= np.array([[1],[2],[3],[4]])\n",
        "v= np.array([[0],[1],[2],[3],[6]])\n",
        "\n",
        "Matrix(u@v.T)"
      ]
    },
    {
      "cell_type": "markdown",
      "metadata": {},
      "source": [
        "### Exercise 2\n",
        "\n",
        "Create a matrix with 4 columns where each even column is the vector $\\mathbf{u}$, else it is a vector of zeros. Show that the rank of this matrix is one.\n"
      ]
    },
    {
      "cell_type": "code",
      "execution_count": 32,
      "metadata": {
        "trusted": true
      },
      "outputs": [
        {
          "name": "stdout",
          "output_type": "stream",
          "text": [
            "The rank is: 1\n"
          ]
        },
        {
          "data": {
            "text/latex": [
              "$\\displaystyle \\left[\\begin{matrix}0 & 1 & 0 & 1\\\\0 & 2 & 0 & 2\\end{matrix}\\right]$"
            ],
            "text/plain": [
              "⎡0  1  0  1⎤\n",
              "⎢          ⎥\n",
              "⎣0  2  0  2⎦"
            ]
          },
          "execution_count": 32,
          "metadata": {},
          "output_type": "execute_result"
        }
      ],
      "source": [
        "u=np.array([[1],[2]])\n",
        "\n",
        "U = Matrix(u@np.array([[0,1,0,1]]))\n",
        "print('The rank is: ' + str(matrix_rank(np.array(U).astype(float))))\n",
        "U"
      ]
    },
    {
      "cell_type": "markdown",
      "metadata": {},
      "source": [
        "### Matrix and vector multiplication\n"
      ]
    },
    {
      "cell_type": "markdown",
      "metadata": {},
      "source": [
        "You can also multiply a matrix by a vector and get a new vector. Consider the $n \\times 1$ vector $\\mathbf{x}$:\n"
      ]
    },
    {
      "cell_type": "markdown",
      "metadata": {},
      "source": [
        "$\n",
        "\\mathbf{x}=\n",
        "\\begin{bmatrix}\n",
        "x_1 \\\\\\\\\\\\\n",
        "x_2 \\\\\\\\\n",
        "\\vdots \\\\\\\\\n",
        "x_n\n",
        "\\end{bmatrix}\n",
        "$\n"
      ]
    },
    {
      "cell_type": "markdown",
      "metadata": {},
      "source": [
        "The following $\\mathbf{Ax}=\\mathbf b$  matrix multiplication  is defined as the dot product of vector $\\mathbf{x}$ with each row of $\\mathbf{A}$, an $m \\times n$ matrix:\n"
      ]
    },
    {
      "cell_type": "markdown",
      "metadata": {},
      "source": [
        "$\n",
        "\\begin{bmatrix}\n",
        "a_{11}x_1+\\cdots + a_{1n}x_n=b_1\n",
        "\\\\\\\\\\\\ a_{21}x_1+\\cdots + a_{2n}x_n =b_2\n",
        "\\\\\\\\ \\vdots\n",
        "\\\\\\\\ a_{m1}x_1+\\cdots + a_{mn}x_n =b_m\n",
        "\\end{bmatrix}\n",
        "$\n"
      ]
    },
    {
      "cell_type": "markdown",
      "metadata": {},
      "source": [
        "Where\n"
      ]
    },
    {
      "cell_type": "markdown",
      "metadata": {},
      "source": [
        "$\n",
        "\\mathbf{b}=\n",
        "\\begin{bmatrix}\n",
        "b_1 \\\\\\\\\\\\\n",
        "b_2 \\\\\\\\\n",
        "\\vdots \\\\\\\\\n",
        "b_m\n",
        "\\end{bmatrix}\n",
        "$\n"
      ]
    },
    {
      "cell_type": "markdown",
      "metadata": {},
      "source": [
        "In `NumPy`:\n"
      ]
    },
    {
      "cell_type": "code",
      "execution_count": 33,
      "metadata": {
        "trusted": true
      },
      "outputs": [
        {
          "data": {
            "text/plain": [
              "array([1, 1])"
            ]
          },
          "execution_count": 33,
          "metadata": {},
          "output_type": "execute_result"
        }
      ],
      "source": [
        "x=np.array([1,1])\n",
        "x"
      ]
    },
    {
      "cell_type": "code",
      "execution_count": 34,
      "metadata": {
        "trusted": true
      },
      "outputs": [
        {
          "data": {
            "text/latex": [
              "$\\displaystyle \\left[\\begin{matrix}0 & -1\\\\1 & 0\\end{matrix}\\right]$"
            ],
            "text/plain": [
              "⎡0  -1⎤\n",
              "⎢     ⎥\n",
              "⎣1  0 ⎦"
            ]
          },
          "execution_count": 34,
          "metadata": {},
          "output_type": "execute_result"
        }
      ],
      "source": [
        "A=np.array([[0,-1],[1,0]])\n",
        "Matrix(A)"
      ]
    },
    {
      "cell_type": "code",
      "execution_count": 35,
      "metadata": {
        "trusted": true
      },
      "outputs": [
        {
          "data": {
            "text/latex": [
              "$\\displaystyle \\left[\\begin{matrix}-1\\\\1\\end{matrix}\\right]$"
            ],
            "text/plain": [
              "⎡-1⎤\n",
              "⎢  ⎥\n",
              "⎣1 ⎦"
            ]
          },
          "execution_count": 35,
          "metadata": {},
          "output_type": "execute_result"
        }
      ],
      "source": [
        "b=A@x\n",
        "Matrix(b)"
      ]
    },
    {
      "cell_type": "markdown",
      "metadata": {},
      "source": [
        "You see that vector $\\mathbf{b}$ is a combination of the columns of $\\mathbf{A}$ with the weights from vector $\\mathbf{x}$.\n",
        "\n",
        "$\\mathbf{b}=x_{1}\\mathbf{a}_{1}+x_{2}\\mathbf{a}_{2}$\n"
      ]
    },
    {
      "cell_type": "markdown",
      "metadata": {},
      "source": [
        "If, for some angle $\\theta$, matrix $\\mathbf{A}$ can be constructed as:\n",
        "\n",
        "$\\begin{align}\n",
        "\\mathbf{A}= \\begin{bmatrix}\n",
        "cos \\theta & -sin \\theta \\\\\\\\\\\\\n",
        "sin \\theta & cos \\theta\n",
        "\\end{bmatrix}\n",
        "\\end{align}$\n",
        "\n",
        "Then $\\mathbf{A}$ is known as a [rotation matrix](https://en.wikipedia.org/wiki/Rotation_matrix). If $\\mathbf{A}$ is a rotation matrix, then vector $\\mathbf{b}$ is a rotation of vector $\\mathbf{x}$ by $\\theta$ degrees counterclockwise if $\\theta$ is positive, or clockwise if $\\theta$ is negative.\n",
        "\n",
        "For example, note that\n",
        "$\\begin{align}\n",
        "\\mathbf{A}= \\begin{bmatrix}\n",
        "0 & -1 \\\\\\\\\n",
        "1 & 0\n",
        "\\end{bmatrix}\n",
        "\\end{align}$\n",
        "is a rotation matrix for $\\theta = 90$. Thus, vector $\\mathbf{b}$ is just a 90-degree counterclockwise rotation of vector $\\mathbf{x}$.\n"
      ]
    },
    {
      "cell_type": "code",
      "execution_count": 36,
      "metadata": {
        "trusted": true
      },
      "outputs": [
        {
          "data": {
            "image/png": "[encoded data removed]",
            "text/plain": [
              "<Figure size 1200x700 with 1 Axes>"
            ]
          },
          "metadata": {},
          "output_type": "display_data"
        }
      ],
      "source": [
        "fig, ax = plt.subplots(figsize = (12, 7))\n",
        "ax.quiver([0, 0],[0, 0],A[0,0], A[1,0],scale=10,label=r\"$\\mathbf{a}_{1}$\")\n",
        "ax.quiver([0, 0],[0, 0],A[0,1], A[1,1],scale=10,label=r\"$\\mathbf{a}_{2}$\")\n",
        "ax.quiver([0,0],[0,0],b[0], b[1],scale=10,label=r\"$\\mathbf{b}$\",color='r')\n",
        "ax.quiver([0,0],[0,0],x[0], x[1],scale=10,label=r\"$\\mathbf{x}$\",color='b')\n",
        "ax.set_xlim([-10,10])\n",
        "ax.set_ylim([-5,10])\n",
        "fig.legend()\n",
        "plt.show()"
      ]
    },
    {
      "cell_type": "markdown",
      "metadata": {},
      "source": [
        "Matrices $\\mathbf{A}$ that, for any angle $\\theta$, cannot be constructed using \n",
        "\n",
        "$\\begin{align}\n",
        "\\mathbf{A}= \\begin{bmatrix}\n",
        "cos \\theta & -sin \\theta \\\\\\\\\\\\\n",
        "sin \\theta & cos \\theta\n",
        "\\end{bmatrix}\n",
        "\\end{align}$\n",
        "\n",
        "are not rotation matrices. Evaluating $\\mathbf{Ax}=\\mathbf b$ for these matrices will cause $\\mathbf{b}$ to be longer or shorter than $\\mathbf{x}$.\n",
        "\n",
        "For example, \n",
        "$\\begin{align}\n",
        "\\mathbf{A}= \\begin{bmatrix}\n",
        "-1 & 1 \\\\\\\\\n",
        "1 & 2\n",
        "\\end{bmatrix}\n",
        "\\end{align}$\n",
        "is a not a rotation matrix, as you can see using the following diagram:\n"
      ]
    },
    {
      "cell_type": "code",
      "execution_count": 37,
      "metadata": {
        "trusted": true
      },
      "outputs": [
        {
          "data": {
            "text/latex": [
              "$\\displaystyle \\left[\\begin{matrix}-1 & 1\\\\1 & 2\\end{matrix}\\right]$"
            ],
            "text/plain": [
              "⎡-1  1⎤\n",
              "⎢     ⎥\n",
              "⎣1   2⎦"
            ]
          },
          "execution_count": 37,
          "metadata": {},
          "output_type": "execute_result"
        }
      ],
      "source": [
        "A=np.array([[-1,1],[1,2]])\n",
        "Matrix(A)"
      ]
    },
    {
      "cell_type": "code",
      "execution_count": 38,
      "metadata": {
        "trusted": true
      },
      "outputs": [
        {
          "data": {
            "text/latex": [
              "$\\displaystyle \\left[\\begin{matrix}0\\\\3\\end{matrix}\\right]$"
            ],
            "text/plain": [
              "⎡0⎤\n",
              "⎢ ⎥\n",
              "⎣3⎦"
            ]
          },
          "execution_count": 38,
          "metadata": {},
          "output_type": "execute_result"
        }
      ],
      "source": [
        "b=A@x\n",
        "Matrix(b)"
      ]
    },
    {
      "cell_type": "code",
      "execution_count": 39,
      "metadata": {
        "trusted": true
      },
      "outputs": [
        {
          "data": {
            "image/png": "[encoded data removed]",
            "text/plain": [
              "<Figure size 1200x700 with 1 Axes>"
            ]
          },
          "metadata": {},
          "output_type": "display_data"
        }
      ],
      "source": [
        "fig, ax = plt.subplots(figsize = (12, 7))\n",
        "ax.quiver([0, 0],[0, 0],A[0,0], A[1,0],scale=10,label=r\"$\\mathbf{a}_{1}$\")\n",
        "ax.quiver([0, 0],[0, 0],A[0,1], A[1,1],scale=10,label=r\"$\\mathbf{a}_{2}$\")\n",
        "ax.quiver([0,0],[0,0],b[0], b[1],scale=10,label=r\"$\\mathbf{b}$\",color='r')\n",
        "ax.quiver([0,0],[0,0],x[0], x[1],scale=10,label=r\"$\\mathbf{x}$\",color='b')\n",
        "ax.set_xlim([-10,10])\n",
        "ax.set_ylim([-5,10])\n",
        "fig.legend()\n",
        "plt.show()"
      ]
    },
    {
      "cell_type": "markdown",
      "metadata": {},
      "source": [
        "### Multiplying matrices\n"
      ]
    },
    {
      "cell_type": "markdown",
      "metadata": {},
      "source": [
        "If a matrix $\\mathbf{C}$ is the product of matrix $\\mathbf{A}$ with dimensions $m \\times n$ and matrix $\\mathbf{B}$ with dimensions $n \\times p$, then the $i$th row $j$th column of $\\mathbf{C}$ is obtained by multiplying term-by-term the entries of the $i$th row of $\\mathbf{A}$ and the $j$th column of $\\mathbf{B}$, and summing the $n$ products. In other words, you can also think of the  $i$th row $j$th column of $\\mathbf{C}$ as the dot product of the $i$th row of $\\mathbf{A}$  and the $j$th column of $\\mathbf{B}$. The resulting matrix $\\mathbf{C}$ will have dimensions $m \\times p$.\n"
      ]
    },
    {
      "cell_type": "markdown",
      "metadata": {},
      "source": [
        "$\\mathbf{C}=\\mathbf{AB}$\n",
        "\n",
        "$\\mathbf{C}=\\begin{pmatrix}\n",
        "a_{11}b_{11} +\\cdots + a_{1n}b_{n1} & a_{11}b_{12} +\\cdots + a_{1n}b_{n2} & \\cdots & a_{11}b_{1p} +\\cdots + a_{1n}b_{np} \\\\\\\\\\\\\n",
        "a_{21}b_{11} +\\cdots + a_{2n}b_{n1} & a_{21}b_{12} +\\cdots + a_{2n}b_{n2} & \\cdots & a_{21}b_{1p} +\\cdots + a_{2n}b_{np} \\\\\\\\\n",
        "\\vdots & \\vdots & \\ddots & \\vdots \\\\\\\\\n",
        "a_{m1}b_{11} +\\cdots + a_{mn}b_{n1} & a_{m1}b_{12} +\\cdots + a_{mn}b_{n2} & \\cdots & a_{m1}b_{1p} +\\cdots + a_{mn}b_{np} \\\\\\\\\n",
        "\\end{pmatrix} $\n"
      ]
    },
    {
      "cell_type": "code",
      "execution_count": 40,
      "metadata": {
        "trusted": true
      },
      "outputs": [
        {
          "data": {
            "text/latex": [
              "$\\displaystyle \\left[\\begin{matrix}0 & -2\\\\3 & -1\\end{matrix}\\right]$"
            ],
            "text/plain": [
              "⎡0  -2⎤\n",
              "⎢     ⎥\n",
              "⎣3  -1⎦"
            ]
          },
          "execution_count": 40,
          "metadata": {},
          "output_type": "execute_result"
        }
      ],
      "source": [
        "C=A@B\n",
        "Matrix(C)"
      ]
    },
    {
      "cell_type": "markdown",
      "metadata": {},
      "source": [
        "If a square matrix is full rank, it can be inverted: $\\mathbf{A}^{-1}$.\n"
      ]
    },
    {
      "cell_type": "code",
      "execution_count": 41,
      "metadata": {
        "trusted": true
      },
      "outputs": [
        {
          "data": {
            "text/latex": [
              "$\\displaystyle \\left[\\begin{matrix}-0.666666666666667 & 0.333333333333333\\\\0.333333333333333 & 0.333333333333333\\end{matrix}\\right]$"
            ],
            "text/plain": [
              "⎡-0.666666666666667  0.333333333333333⎤\n",
              "⎢                                     ⎥\n",
              "⎣0.333333333333333   0.333333333333333⎦"
            ]
          },
          "execution_count": 41,
          "metadata": {},
          "output_type": "execute_result"
        }
      ],
      "source": [
        "A_inv=inv(A)\n",
        "Matrix(A_inv)"
      ]
    },
    {
      "cell_type": "markdown",
      "metadata": {},
      "source": [
        "This can be a complex computation. If you multiply a matrix with its inverse, you get the Identity matrix $\\mathbf{AA}^{-1}=I$.\n"
      ]
    },
    {
      "cell_type": "code",
      "execution_count": 42,
      "metadata": {
        "trusted": true
      },
      "outputs": [
        {
          "data": {
            "text/latex": [
              "$\\displaystyle \\left[\\begin{matrix}1.0 & 0\\\\0 & 1.0\\end{matrix}\\right]$"
            ],
            "text/plain": [
              "⎡1.0   0 ⎤\n",
              "⎢        ⎥\n",
              "⎣ 0   1.0⎦"
            ]
          },
          "execution_count": 42,
          "metadata": {},
          "output_type": "execute_result"
        }
      ],
      "source": [
        "I=np.round(A@A_inv, 8)\n",
        "Matrix(I)"
      ]
    },
    {
      "cell_type": "markdown",
      "metadata": {},
      "source": [
        "Naturally, the inverse of an inverted matrix is the uninverted matrix, thus $\\mathbf{A^{-1}A}=I$.\n"
      ]
    },
    {
      "cell_type": "code",
      "execution_count": 43,
      "metadata": {
        "trusted": true
      },
      "outputs": [
        {
          "data": {
            "text/latex": [
              "$\\displaystyle \\left[\\begin{matrix}1.0 & 0\\\\0 & 1.0\\end{matrix}\\right]$"
            ],
            "text/plain": [
              "⎡1.0   0 ⎤\n",
              "⎢        ⎥\n",
              "⎣ 0   1.0⎦"
            ]
          },
          "execution_count": 43,
          "metadata": {},
          "output_type": "execute_result"
        }
      ],
      "source": [
        "I=np.round(A_inv@A, 8)\n",
        "Matrix(I)"
      ]
    },
    {
      "cell_type": "markdown",
      "metadata": {},
      "source": [
        "If you multiply any square matrix with an Identity matrix, you get the original Matrix. For example, $\\mathbf{IA}=\\mathbf{A}$. Using `NumPy`:\n"
      ]
    },
    {
      "cell_type": "code",
      "execution_count": 44,
      "metadata": {
        "trusted": true
      },
      "outputs": [
        {
          "data": {
            "text/latex": [
              "$\\displaystyle \\left[\\begin{matrix}-1.0 & 1.0\\\\1.0 & 2.0\\end{matrix}\\right]$"
            ],
            "text/plain": [
              "⎡-1.0  1.0⎤\n",
              "⎢         ⎥\n",
              "⎣1.0   2.0⎦"
            ]
          },
          "execution_count": 44,
          "metadata": {},
          "output_type": "execute_result"
        }
      ],
      "source": [
        "Matrix((A@I))"
      ]
    },
    {
      "cell_type": "markdown",
      "metadata": {},
      "source": [
        "Finally, note that the order in which matrices are multiplied matters, whereas for scalars it does not. For example, for two matrices $\\mathbf{A}$ and $\\mathbf{B}$, $\\mathbf{AB}$ will typically not equal $\\mathbf{BA}$.\n"
      ]
    },
    {
      "cell_type": "markdown",
      "metadata": {},
      "source": [
        "### Exercise 3\n",
        "\n",
        "Use the inverse of  matrix $\\mathbf{A}$ to solve for $\\mathbf{x}$ given $\\mathbf{b}$ and assign it to `x_`. Compare the result to `x`.\n"
      ]
    },
    {
      "cell_type": "code",
      "execution_count": 45,
      "metadata": {
        "trusted": true
      },
      "outputs": [
        {
          "name": "stdout",
          "output_type": "stream",
          "text": [
            "x_ : [1. 1.]\n",
            "x: [1 1]\n"
          ]
        }
      ],
      "source": [
        "x_=A_inv@b\n",
        "print(\"x_ :\",x_)\n",
        "print(\"x:\",x)"
      ]
    },
    {
      "cell_type": "markdown",
      "metadata": {},
      "source": [
        "Another type of matrix is an **orthogonal matrix**. An orthogonal matrix is extremely useful. If matrix $\\mathbf{Q}$ is orthogonal, then $Q^T=Q^{-1}$, and the rows and columns are also orthogonal. For example:\n"
      ]
    },
    {
      "cell_type": "code",
      "execution_count": 46,
      "metadata": {
        "trusted": true
      },
      "outputs": [
        {
          "data": {
            "text/plain": [
              "array([[ 0.70710678,  0.70710678],\n",
              "       [ 0.70710678, -0.70710678]])"
            ]
          },
          "execution_count": 46,
          "metadata": {},
          "output_type": "execute_result"
        }
      ],
      "source": [
        "Q=np.array([[1,1],[1,-1]])*2**(-1/2)\n",
        "Q"
      ]
    },
    {
      "cell_type": "markdown",
      "metadata": {},
      "source": [
        "You can verify that $Q^T=Q^{-1}$.\n"
      ]
    },
    {
      "cell_type": "code",
      "execution_count": 47,
      "metadata": {
        "trusted": true
      },
      "outputs": [
        {
          "data": {
            "text/latex": [
              "$\\displaystyle \\left[\\begin{matrix}1.0 & 0\\\\0 & 1.0\\end{matrix}\\right]$"
            ],
            "text/plain": [
              "⎡1.0   0 ⎤\n",
              "⎢        ⎥\n",
              "⎣ 0   1.0⎦"
            ]
          },
          "execution_count": 47,
          "metadata": {},
          "output_type": "execute_result"
        }
      ],
      "source": [
        "I=Q@Q.T\n",
        "Matrix(I)"
      ]
    },
    {
      "cell_type": "markdown",
      "metadata": {},
      "source": [
        "And, graphically, you can show that the column vectors are indeed orthogonal.\n"
      ]
    },
    {
      "cell_type": "code",
      "execution_count": 48,
      "metadata": {
        "trusted": true
      },
      "outputs": [
        {
          "data": {
            "image/png": "[encoded data removed]",
            "text/plain": [
              "<Figure size 1200x700 with 1 Axes>"
            ]
          },
          "metadata": {},
          "output_type": "display_data"
        }
      ],
      "source": [
        "fig, ax = plt.subplots(figsize = (12, 7))\n",
        "ax.quiver([0, 0],[0, 0],Q[0,0], Q[1,0],scale=10,label=r\"$\\mathbf{q}_{1}$\")\n",
        "ax.quiver([0, 0],[0, 0],Q[0,1], Q[1,1],scale=10,label=r\"$\\mathbf{q}_{2}$\",color='red')\n",
        "plt.title(r\"columns of $\\mathbf{Q}$ \")\n",
        "plt.legend()\n",
        "plt.show()"
      ]
    },
    {
      "cell_type": "markdown",
      "metadata": {},
      "source": [
        "You usually place your data in a design matrix $\\textbf{X}$, where each row represents an individual sample. Consider the following example `X_`:\n"
      ]
    },
    {
      "cell_type": "code",
      "execution_count": 49,
      "metadata": {
        "trusted": true
      },
      "outputs": [
        {
          "data": {
            "text/plain": [
              "array([[15.54171661, 14.94707407],\n",
              "       [ 9.91159268,  9.25845779],\n",
              "       [10.48639096, 11.05934841],\n",
              "       [ 3.93362613,  4.42438258],\n",
              "       [ 3.21709146,  3.20324667]])"
            ]
          },
          "execution_count": 49,
          "metadata": {},
          "output_type": "execute_result"
        }
      ],
      "source": [
        "samples=200\n",
        "\n",
        "u=np.array([[1.0,1.0],[0.10,-0.10]])/(2)**(0.5)\n",
        "\n",
        "X_=np.dot(4*np.random.randn(samples,2),u)+10\n",
        "X_[0:5]"
      ]
    },
    {
      "cell_type": "markdown",
      "metadata": {},
      "source": [
        "You can plot the samples.\n"
      ]
    },
    {
      "cell_type": "code",
      "execution_count": 50,
      "metadata": {
        "trusted": true
      },
      "outputs": [
        {
          "data": {
            "image/png": "[encoded data removed]",
            "text/plain": [
              "<Figure size 640x480 with 1 Axes>"
            ]
          },
          "metadata": {},
          "output_type": "display_data"
        }
      ],
      "source": [
        "dict_={\"design matrix samples\":X_}\n",
        "plot_2da(dict_)"
      ]
    },
    {
      "cell_type": "markdown",
      "metadata": {},
      "source": [
        "You can find the shape of the design matrix.\n"
      ]
    },
    {
      "cell_type": "code",
      "execution_count": 51,
      "metadata": {
        "trusted": true
      },
      "outputs": [
        {
          "name": "stdout",
          "output_type": "stream",
          "text": [
            "number of smaples 200, dimensions is 2\n"
          ]
        }
      ],
      "source": [
        "N,D=X_.shape\n",
        "print(\"number of smaples {}, dimensions is {}\".format(N,D))"
      ]
    },
    {
      "cell_type": "markdown",
      "metadata": {},
      "source": [
        "You can also perform lots of operations thanks to matrix multiplication. For example, you can find the mean using:\n"
      ]
    },
    {
      "cell_type": "code",
      "execution_count": 52,
      "metadata": {
        "trusted": true
      },
      "outputs": [
        {
          "data": {
            "text/plain": [
              "array([[9.59053375, 9.67253357]])"
            ]
          },
          "execution_count": 52,
          "metadata": {},
          "output_type": "execute_result"
        }
      ],
      "source": [
        "mean=(np.ones((1,N))/N)@X_\n",
        "mean"
      ]
    },
    {
      "cell_type": "markdown",
      "metadata": {},
      "source": [
        "You can verify the result using `NumPy`'s built-in `mean` array method.\n"
      ]
    },
    {
      "cell_type": "code",
      "execution_count": 53,
      "metadata": {
        "trusted": true
      },
      "outputs": [
        {
          "data": {
            "text/plain": [
              "array([9.59053375, 9.67253357])"
            ]
          },
          "execution_count": 53,
          "metadata": {},
          "output_type": "execute_result"
        }
      ],
      "source": [
        "X_.mean(axis=0)"
      ]
    },
    {
      "cell_type": "markdown",
      "metadata": {},
      "source": [
        "### Exercise 4\n",
        "\n",
        "Perform matrix multiplication using **no_mean** and **X\\_**, and save the result in a variable called **X**. Show that the mean of **X** with respect to the rows is approximately zero.\n"
      ]
    },
    {
      "cell_type": "code",
      "execution_count": 54,
      "metadata": {
        "trusted": true
      },
      "outputs": [
        {
          "name": "stdout",
          "output_type": "stream",
          "text": [
            "mean of X [-2.75335310e-15  1.18793864e-15]\n"
          ]
        }
      ],
      "source": [
        "I=np.identity(N)\n",
        "col1=np.ones((1,N))\n",
        "row1=np.ones((N,1))/N\n",
        "no_mean=(I-row1@col1)\n",
        "\n",
        "X=no_mean@X_\n",
        "print(\"mean of X\",X.mean(axis=0))"
      ]
    },
    {
      "cell_type": "markdown",
      "metadata": {},
      "source": [
        "Let's plot the original data, the zero mean data, and the location of the mean in the original data.\n"
      ]
    },
    {
      "cell_type": "code",
      "execution_count": 55,
      "metadata": {
        "trusted": true
      },
      "outputs": [
        {
          "data": {
            "image/png": "[encoded data removed]",
            "text/plain": [
              "<Figure size 640x480 with 1 Axes>"
            ]
          },
          "metadata": {},
          "output_type": "display_data"
        }
      ],
      "source": [
        "dict_={\"original data\":X_,\"zero mean data\":X,\"mean of original data\":mean}\n",
        "plot_2da(dict_)    "
      ]
    },
    {
      "cell_type": "markdown",
      "metadata": {},
      "source": [
        "Because you subtracted the mean, you are now able to calculate the empirical covariance matrix using matrix multiplication.\n"
      ]
    },
    {
      "cell_type": "markdown",
      "metadata": {},
      "source": [
        "$\\mathbf{C}=\\frac{1}{N}   \\mathbf{X}^T \\mathbf{X} $\n"
      ]
    },
    {
      "cell_type": "code",
      "execution_count": 56,
      "metadata": {
        "trusted": true
      },
      "outputs": [
        {
          "data": {
            "text/latex": [
              "$\\displaystyle \\left[\\begin{matrix}8.46469288749564 & 8.1814224564028\\\\8.1814224564028 & 8.22365998876843\\end{matrix}\\right]$"
            ],
            "text/plain": [
              "⎡8.46469288749564  8.1814224564028 ⎤\n",
              "⎢                                  ⎥\n",
              "⎣8.1814224564028   8.22365998876843⎦"
            ]
          },
          "execution_count": 56,
          "metadata": {},
          "output_type": "execute_result"
        }
      ],
      "source": [
        "C=X.T@X/N\n",
        "Matrix(C)"
      ]
    },
    {
      "cell_type": "markdown",
      "metadata": {},
      "source": [
        "You can verify that the empirical covariance matrix is full rank.\n"
      ]
    },
    {
      "cell_type": "code",
      "execution_count": 57,
      "metadata": {
        "trusted": true
      },
      "outputs": [
        {
          "data": {
            "text/plain": [
              "2"
            ]
          },
          "execution_count": 57,
          "metadata": {},
          "output_type": "execute_result"
        }
      ],
      "source": [
        "matrix_rank(C)"
      ]
    },
    {
      "cell_type": "markdown",
      "metadata": {},
      "source": [
        "## Eigen decomposition\n"
      ]
    },
    {
      "cell_type": "markdown",
      "metadata": {},
      "source": [
        "### Eigenvectors and Eigenvalues\n"
      ]
    },
    {
      "cell_type": "markdown",
      "metadata": {},
      "source": [
        "If a matrix is full rank, you can apply Eigen factorization or Eigen decomposition to it so that it is represented in terms of its Eigenvalues $\\mathbf{\\Lambda}$ and Eigenvectors embedded in matrix $\\mathbf{Q}$. Symbolically:\n"
      ]
    },
    {
      "cell_type": "markdown",
      "metadata": {},
      "source": [
        "$\\mathbf{A}=\\mathbf{Q}\\mathbf{\\Lambda}\\mathbf{Q}^{-1}$\n"
      ]
    },
    {
      "cell_type": "markdown",
      "metadata": {},
      "source": [
        "You can obtain these matrices using `NumPy`.\n"
      ]
    },
    {
      "cell_type": "code",
      "execution_count": 58,
      "metadata": {
        "trusted": true
      },
      "outputs": [],
      "source": [
        "eigen_values , eigen_vectors = eig(A)"
      ]
    },
    {
      "cell_type": "markdown",
      "metadata": {},
      "source": [
        "`eigen_values` is a vector, so you convert it to a diagonal matrix using the `np.diag` function.\n"
      ]
    },
    {
      "cell_type": "code",
      "execution_count": 59,
      "metadata": {
        "trusted": true
      },
      "outputs": [
        {
          "data": {
            "text/latex": [
              "$\\displaystyle \\left[\\begin{matrix}-1.30277563773199 & 0\\\\0 & 2.30277563773199\\end{matrix}\\right]$"
            ],
            "text/plain": [
              "⎡-1.30277563773199         0        ⎤\n",
              "⎢                                   ⎥\n",
              "⎣        0          2.30277563773199⎦"
            ]
          },
          "execution_count": 59,
          "metadata": {},
          "output_type": "execute_result"
        }
      ],
      "source": [
        "Matrix(np.diag(eigen_values))"
      ]
    },
    {
      "cell_type": "markdown",
      "metadata": {},
      "source": [
        "You can also look at the Eigenvectors.\n"
      ]
    },
    {
      "cell_type": "code",
      "execution_count": 60,
      "metadata": {
        "trusted": true
      },
      "outputs": [
        {
          "data": {
            "text/latex": [
              "$\\displaystyle \\left[\\begin{matrix}-0.957092026489053 & -0.28978414868843\\\\0.28978414868843 & -0.957092026489053\\end{matrix}\\right]$"
            ],
            "text/plain": [
              "⎡-0.957092026489053  -0.28978414868843 ⎤\n",
              "⎢                                      ⎥\n",
              "⎣ 0.28978414868843   -0.957092026489053⎦"
            ]
          },
          "execution_count": 60,
          "metadata": {},
          "output_type": "execute_result"
        }
      ],
      "source": [
        "Matrix(eigen_vectors)"
      ]
    },
    {
      "cell_type": "markdown",
      "metadata": {},
      "source": [
        "You can retrieve the original matrix as follows:\n"
      ]
    },
    {
      "cell_type": "code",
      "execution_count": 61,
      "metadata": {
        "trusted": true
      },
      "outputs": [
        {
          "data": {
            "text/latex": [
              "$\\displaystyle \\left[\\begin{matrix}-1.0 & 1.0\\\\1.0 & 2.0\\end{matrix}\\right]$"
            ],
            "text/plain": [
              "⎡-1.0  1.0⎤\n",
              "⎢         ⎥\n",
              "⎣1.0   2.0⎦"
            ]
          },
          "execution_count": 61,
          "metadata": {},
          "output_type": "execute_result"
        }
      ],
      "source": [
        "A=np.round(eigen_vectors@np.diag(eigen_values)@inv(eigen_vectors),8)\n",
        "Matrix(A)"
      ]
    },
    {
      "cell_type": "markdown",
      "metadata": {},
      "source": [
        "## Factorization for PCA\n"
      ]
    },
    {
      "cell_type": "markdown",
      "metadata": {},
      "source": [
        "Eigen decomposition can only be applied to matrices that are full rank. However, even if a matrix is full rank, its Eigenvalues and Eigenvectors could be complex.\n",
        "\n",
        "A practical example of the use of the symmetric matrix ($\\mathbf{S}=\\mathbf{S}^{T}$) is where you require the Eigenvalues to be real-valued and the Eigenvectors to be orthogonal. An example of this is seen in the covariance matrix $\\mathbf{C}$ used in principal component analysis (PCA):\n"
      ]
    },
    {
      "cell_type": "markdown",
      "metadata": {},
      "source": [
        "$\\mathbf{C}=\\mathbf{V}\\mathbf{\\Lambda}\\mathbf{V}^{T}$\n"
      ]
    },
    {
      "cell_type": "markdown",
      "metadata": {},
      "source": [
        "Using `NumPy`:\n"
      ]
    },
    {
      "cell_type": "code",
      "execution_count": 62,
      "metadata": {
        "trusted": true
      },
      "outputs": [],
      "source": [
        "eigen_values , eigen_vectors = eig(C)"
      ]
    },
    {
      "cell_type": "markdown",
      "metadata": {},
      "source": [
        "You can now perform PCA using factorization. To find the first principle component, you must find the eigenvector with the largest eigenvalue.\n"
      ]
    },
    {
      "cell_type": "code",
      "execution_count": 63,
      "metadata": {
        "trusted": true
      },
      "outputs": [
        {
          "data": {
            "text/plain": [
              "array([[0.7122952 ],\n",
              "       [0.70188001]])"
            ]
          },
          "execution_count": 63,
          "metadata": {},
          "output_type": "execute_result"
        }
      ],
      "source": [
        "v=eigen_vectors[:, np.argmax(eigen_values)].reshape(-1,1)\n",
        "v"
      ]
    },
    {
      "cell_type": "markdown",
      "metadata": {},
      "source": [
        "You can calculate the first principal component by finding the projection of the original data onto $\\mathbf{v}$.\n"
      ]
    },
    {
      "cell_type": "markdown",
      "metadata": {},
      "source": [
        "$\\mathbf{Z}=\\mathbf{X} \\mathbf{v}$\n"
      ]
    },
    {
      "cell_type": "code",
      "execution_count": 64,
      "metadata": {
        "trusted": true
      },
      "outputs": [],
      "source": [
        "Z=X@v"
      ]
    },
    {
      "cell_type": "markdown",
      "metadata": {},
      "source": [
        "Let's verify by using the first pricipal component found by the `sklearn` package.\n"
      ]
    },
    {
      "cell_type": "code",
      "execution_count": 65,
      "metadata": {
        "trusted": true
      },
      "outputs": [
        {
          "name": "stdout",
          "output_type": "stream",
          "text": [
            "True\n"
          ]
        }
      ],
      "source": [
        "pca = PCA(n_components=1)\n",
        "Z_sklearn = pca.fit_transform(X_)\n",
        "\n",
        "# This will print True if the vectors are identical (ignoring the sign) and False otherwise\n",
        "if np.isclose(Z,Z_sklearn).min():\n",
        "    print(np.isclose(Z,Z_sklearn).min())\n",
        "else:\n",
        "    print(np.isclose(Z,-Z_sklearn).min())"
      ]
    },
    {
      "cell_type": "markdown",
      "metadata": {},
      "source": [
        "### Exercise 5\n",
        "\n",
        "Perform PCA using `sklearn` with `n_components=1` on **X**. Store the transformed data in `X_transformed`. Also, do an `inverse_transform` using the same fitted PCA object; store the result in `X_`.\n"
      ]
    },
    {
      "cell_type": "code",
      "execution_count": 66,
      "metadata": {
        "trusted": true
      },
      "outputs": [],
      "source": [
        "pca = PCA(n_components=1)\n",
        "X_transformed=pca.fit_transform(X)\n",
        "X_=pca.inverse_transform(X_transformed)"
      ]
    },
    {
      "cell_type": "markdown",
      "metadata": {},
      "source": [
        "You can also transform the data back to its original space by using matrix multiplication.\n"
      ]
    },
    {
      "cell_type": "markdown",
      "metadata": {},
      "source": [
        "$\\mathbf{\\hat{X}}=\\mathbf{Z} \\mathbf{v}^T$\n"
      ]
    },
    {
      "cell_type": "markdown",
      "metadata": {},
      "source": [
        "### Exercise 6\n",
        "\n",
        "Find the transform data back to its original space from the previous equation and call it **Xhat**.\n"
      ]
    },
    {
      "cell_type": "code",
      "execution_count": 67,
      "metadata": {
        "trusted": true
      },
      "outputs": [],
      "source": [
        "Xhat=Z@v.T"
      ]
    },
    {
      "cell_type": "markdown",
      "metadata": {},
      "source": [
        "You can also check that the two methods give the same \"inverse transform\" result (**X\\_** and **Xhat** will overlap in the plot) by running the following cell.\n"
      ]
    },
    {
      "cell_type": "code",
      "execution_count": 68,
      "metadata": {
        "trusted": true
      },
      "outputs": [
        {
          "data": {
            "text/plain": [
              "array([[0.7122952 , 0.70188001]])"
            ]
          },
          "execution_count": 68,
          "metadata": {},
          "output_type": "execute_result"
        }
      ],
      "source": [
        "v.T"
      ]
    },
    {
      "cell_type": "code",
      "execution_count": 69,
      "metadata": {
        "trusted": true
      },
      "outputs": [
        {
          "name": "stdout",
          "output_type": "stream",
          "text": [
            "[[0.7122952  0.70188001]]\n"
          ]
        },
        {
          "data": {
            "image/png": "[encoded data removed]",
            "text/plain": [
              "<Figure size 640x480 with 1 Axes>"
            ]
          },
          "metadata": {},
          "output_type": "display_data"
        }
      ],
      "source": [
        "dict_ = {\"Sklearn inverse_transform\": X_, \"Matrix inverse transform\": Xhat, \"First Principal Component\": v.T}\n",
        "plot_2db(dict_)"
      ]
    },
    {
      "cell_type": "markdown",
      "metadata": {},
      "source": [
        "# Congratulations! - You have completed the lab\n"
      ]
    },
    {
      "cell_type": "markdown",
      "metadata": {},
      "source": [
        "## Authors\n"
      ]
    },
    {
      "cell_type": "markdown",
      "metadata": {},
      "source": [
        "<a href=\"https://www.linkedin.com/in/joseph-s-50398b136/?utm_medium=Exinfluencer&utm_source=Exinfluencer&utm_content=000026UJ&utm_term=10006555&utm_id=NA-SkillsNetwork-Channel-SkillsNetworkCoursesIBMDeveloperSkillsNetworkML0101ENSkillsNetwork20718538-2021-01-01\" target=\"_blank\">Joseph Santarcangelo</a> Joseph has a Ph.D. in Electrical Engineering, his research focused on using machine learning, signal processing, and computer vision to determine how videos impact human cognition. Joseph has been working for IBM since he completed his PhD.\n"
      ]
    },
    {
      "cell_type": "markdown",
      "metadata": {},
      "source": [
        "[Wojciech \"Victor\" Fulmyk](https://www.linkedin.com/in/wfulmyk) is a Data Scientist at IBM Skills Network, and an economics PhD Candididate at the University of Calgary.\n"
      ]
    },
    {
      "cell_type": "markdown",
      "metadata": {},
      "source": [
        "### Other Contributors\n"
      ]
    },
    {
      "cell_type": "markdown",
      "metadata": {},
      "source": [
        "[Roxanne Li](https://www.linkedin.com/in/roxanne-li/?utm_medium=Exinfluencer&utm_source=Exinfluencer&utm_content=000026UJ&utm_term=10006555&utm_id=NA-SkillsNetwork-Channel-SkillsNetworkCoursesIBMML0187ENSkillsNetwork31430127-2022-01-01) was a Data Science intern at IBM Skills Network, entering level-5 study in the Mathematics & Statistics undergraduate Coop program at McMaster University.\n"
      ]
    },
    {
      "cell_type": "markdown",
      "metadata": {},
      "source": [
        "## Change Log\n"
      ]
    },
    {
      "cell_type": "markdown",
      "metadata": {},
      "source": [
        "| Date (YYYY-MM-DD) | Version | Changed By  | Change Description  |\n",
        "| ----------------- | ------- | ----------- | ------------------- |\n",
        "| 2022-03-25        | 0.1     | Joseph S.   | Updated all content |\n",
        "| 2022-05-26        | 0.1     | Roxanne Li  | Review and edit     |\n",
        "| 2022-06-09        | 0.1     | Steve H.    | QA pass             |\n",
        "| 2022-07-15        | 0.1     | Svitlana K. | Review and edit     |\n",
        "| 2024-02-05        | 0.15     | Wojciech \"Victor\" Fulmyk | Review and fix LaTex     |\n",
        "| 2024-02-05        | 0.99     | Wojciech \"Victor\" Fulmyk | Lab complete, requires review     |\n",
        "| 2024-02-21        | 1.00     | Wojciech \"Victor\" Fulmyk | Fix TOC   |\n"
      ]
    },
    {
      "cell_type": "markdown",
      "metadata": {},
      "source": [
        "Copyright © 2021 IBM Corporation. All rights reserved.\n"
      ]
    }
  ],
  "metadata": {
    "kernelspec": {
      "display_name": "Python (Pyodide)",
      "language": "python",
      "name": "python"
    },
    "language_info": {
      "codemirror_mode": {
        "name": "python",
        "version": 3
      },
      "file_extension": ".py",
      "mimetype": "text/x-python",
      "name": "python",
      "nbconvert_exporter": "python",
      "pygments_lexer": "ipython3",
      "version": "3.8"
    }
  },
  "nbformat": 4,
  "nbformat_minor": 4
}
