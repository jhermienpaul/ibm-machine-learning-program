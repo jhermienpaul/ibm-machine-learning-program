{
 "cells": [
  {
   "cell_type": "markdown",
   "metadata": {},
   "source": [
    "<center>\n",
    "    <img src=\"https://cf-courses-data.s3.us.cloud-object-storage.appdomain.cloud/assets/logos/SN_web_lightmode.png\" width=\"300\" alt=\"cognitiveclass.ai logo\">\n",
    "</center>\n"
   ]
  },
  {
   "cell_type": "markdown",
   "metadata": {},
   "source": [
    "# **Categorical Cross-Entropy Loss**\n"
   ]
  },
  {
   "cell_type": "markdown",
   "metadata": {},
   "source": [
    "Estimated time needed: **45** minutes\n"
   ]
  },
  {
   "cell_type": "markdown",
   "metadata": {},
   "source": [
    "In this lab, we are going to use the MNIST hand-written digits dataset as a motivating example to understand categorical cross-entropy loss.\n"
   ]
  },
  {
   "cell_type": "markdown",
   "metadata": {},
   "source": [
    "<h1> House Number Detection </h1></s>\n",
    "\n",
    "You have been tasked with building a model that can recognize house numbers from arbitrary street-view images. You are given a set of images of single-digit house numbers engraved into slates or wall surfaces. The images vary in size and color. In this lab, we are going to use the MNIST hand-written digits dataset as a motivating example to understand the __softmax function__, __one-hot encoding__, and __categorical cross-entropy loss__. The MNIST hand-written dataset has 10 classes, each representing a digit from 0-9. We will attempt to build a multi-class classification model that will identify which digit is present in the image. \n"
   ]
  },
  {
   "cell_type": "markdown",
   "metadata": {},
   "source": [
    "<img src=\"https://cf-courses-data.s3.us.cloud-object-storage.appdomain.cloud/IBMDeveloperSkillsNetwork-ML311-Coursera/labs/Module3/L1/house_number.jpg\" style=\"width: 30%\">\n",
    "\n",
    "<!-- Original Source: https://slate.com/human-interest/2020/06/a-quest-to-catalogue-every-single-house-number-in-one-suburban-zip-code.html --> \n"
   ]
  },
  {
   "cell_type": "markdown",
   "metadata": {},
   "source": [
    "## **Table of Contents**\n",
    "\n",
    "<ol>\n",
    "    <li><a href=\"https://#Objectives\">Objectives</a></li>\n",
    "    <li><a href=\"https://#Datasets\">Datasets</a></li>\n",
    "    <li>\n",
    "        <a href=\"https://#Setup\">Setup</a>\n",
    "        <ol>\n",
    "            <li><a href=\"https://#Installing-Required-Libraries\">Installing Required Libraries</a></li>\n",
    "            <li><a href=\"https://#Importing-Required-Libraries\">Importing Required Libraries</a></li>\n",
    "            <li><a href=\"https://#Defining-Helper-Functions\">Defining Helper Functions</a></li>\n",
    "        </ol>\n",
    "    </li>\n",
    "    <li><a href=\"https://https://#Categorical Cross-Entropy\">Categorical Cross-Entropy</a>\n",
    "        <ol>\n",
    "            <li><a href=\"https://#Softmax Activation Function\">Softmax Activation Function</a></li>\n",
    "            <li><a href=\"https://#One-Hot Encoding\">One-Hot Encoding</a></li>\n",
    "            <li><a href=\"#Categorical Cross-Entropy\">Categorical Cross-Entropy</a></li>\n",
    "        </ol>\n",
    "    </li>\n",
    "    <li><a href=\"https://#Binary vs. Multi-Class Classification\">Binary vs. Multi-Class Classification</a>\n",
    "        <ol>\n",
    "            <li><a href=\"https://#Binary Classification\">Binary Classification</a></li>\n",
    "            <li><a href=\"https://#Multi-Class Classification\">Multi-Class Classification</a></li>\n",
    "        </ol>\n",
    "    </li>\n",
    "    <li>\n",
    "        <a href=\"https://#Example: MNIST Hand-Written Digits\">Example: MNIST Hand-Written Digits</a> </li>\n",
    "    <li>\n",
    "        <a href=\"https://#Example: Single-Digit House Number Recognition\"> Example: Single-Digit House Number Recognition</a> </li>\n",
    "    <li><a href=\"https://#Exercises\">Exercises</a>\n",
    "        <ol>\n",
    "            <li><a href=\"https://#Exercise 1 - Loading and plotting the images\">Exercise 1 - Loading and plotting the images</a></li>\n",
    "            <li><a href=\"https://#Exercise 2 - Preparing the data\">Exercise 2 - Preparing the data</a></li>\n",
    "            <li><a href=\"https://#Exercise 3 - One-hot encoding\">Exercise 3 - One-hot encoding</a></li>\n",
    "            <li><a href=\"https://#Exercise 4 - Build model architecture\">Exercise 4 - Build model architecture</a></li>\n",
    "            <li><a href=\"https://#(Optional) Exercise 5 - Sparse Categorical Cross-Entropy\">Sparse Categorical Cross-Entropy</a></li>\n",
    "        </ol>\n",
    "    </li>\n",
    "</ol>\n"
   ]
  },
  {
   "cell_type": "markdown",
   "metadata": {},
   "source": [
    "## Objectives\n",
    "\n",
    "After completing this lab you will be able to:\n",
    "\n",
    "*   **Understand** what categorical cross-entropy is, and how it works with the Softmax activation function.\n",
    "*   **Build** simple CNN models for binary and multi-class classification.\n"
   ]
  },
  {
   "cell_type": "markdown",
   "metadata": {},
   "source": [
    "## Setup\n"
   ]
  },
  {
   "cell_type": "markdown",
   "metadata": {},
   "source": [
    "For this lab, we will be using the following libraries:\n",
    "\n",
    "*   [`pandas`](https://pandas.pydata.org/?utm_medium=Exinfluencer&utm_source=Exinfluencer&utm_content=000026UJ&utm_term=10006555&utm_id=NA-SkillsNetwork-Channel-SkillsNetworkCoursesIBMML0187ENSkillsNetwork31430127-2021-01-01) for managing the data.\n",
    "*   [`numpy`](https://numpy.org/?utm_medium=Exinfluencer&utm_source=Exinfluencer&utm_content=000026UJ&utm_term=10006555&utm_id=NA-SkillsNetwork-Channel-SkillsNetworkCoursesIBMML0187ENSkillsNetwork31430127-2021-01-01) for mathematical operations.\n",
    "*   [`sklearn`](https://scikit-learn.org/stable/?utm_medium=Exinfluencer&utm_source=Exinfluencer&utm_content=000026UJ&utm_term=10006555&utm_id=NA-SkillsNetwork-Channel-SkillsNetworkCoursesIBMML0187ENSkillsNetwork31430127-2021-01-01) for machine learning and machine-learning-pipeline related functions.\n",
    "*   [`seaborn`](https://seaborn.pydata.org/?utm_medium=Exinfluencer&utm_source=Exinfluencer&utm_content=000026UJ&utm_term=10006555&utm_id=NA-SkillsNetwork-Channel-SkillsNetworkCoursesIBMML0187ENSkillsNetwork31430127-2021-01-01) for visualizing the data.\n",
    "*   [`matplotlib`](https://matplotlib.org/?utm_medium=Exinfluencer&utm_source=Exinfluencer&utm_content=000026UJ&utm_term=10006555&utm_id=NA-SkillsNetwork-Channel-SkillsNetworkCoursesIBMML0187ENSkillsNetwork31430127-2021-01-01) for additional plotting tools.\n",
    "*   [`keras`](https://keras.io/?utm_medium=Exinfluencer&utm_source=Exinfluencer&utm_content=000026UJ&utm_term=10006555&utm_id=NA-SkillsNetwork-Channel-SkillsNetworkCoursesIBMML0187ENSkillsNetwork31430127-2021-01-01) for loading datasets.\n"
   ]
  },
  {
   "cell_type": "markdown",
   "metadata": {},
   "source": [
    "### Installing Required Libraries\n",
    "\n",
    "The following required libraries are pre-installed in the Skills Network Labs environment. However, if you run these notebook commands in a different Jupyter environment (like Watson Studio or Ananconda), you will need to install these libraries by removing the `#` sign before `!pip install mlxtend` in the following code cell.\n"
   ]
  },
  {
   "cell_type": "markdown",
   "metadata": {},
   "source": [
    "The following required libraries are **not** pre-installed in the Skills Network Labs environment. **You will need to run the following cell** to install them. **Please RESTART KERNEL after installation,**.\n"
   ]
  },
  {
   "cell_type": "code",
   "execution_count": 1,
   "metadata": {
    "tags": []
   },
   "outputs": [],
   "source": [
    "%%capture\n",
    "\n",
    "!pip install mlxtend\n",
    "!pip install --upgrade tensorflow"
   ]
  },
  {
   "cell_type": "markdown",
   "metadata": {},
   "source": [
    "### Importing Required Libraries\n"
   ]
  },
  {
   "cell_type": "code",
   "execution_count": 2,
   "metadata": {
    "tags": []
   },
   "outputs": [
    {
     "name": "stderr",
     "output_type": "stream",
     "text": [
      "2025-07-30 08:42:32.218648: I tensorflow/core/platform/cpu_feature_guard.cc:193] This TensorFlow binary is optimized with oneAPI Deep Neural Network Library (oneDNN) to use the following CPU instructions in performance-critical operations:  AVX2 AVX512F AVX512_VNNI FMA\n",
      "To enable them in other operations, rebuild TensorFlow with the appropriate compiler flags.\n",
      "2025-07-30 08:42:33.738447: I tensorflow/core/util/port.cc:104] oneDNN custom operations are on. You may see slightly different numerical results due to floating-point round-off errors from different computation orders. To turn them off, set the environment variable `TF_ENABLE_ONEDNN_OPTS=0`.\n",
      "2025-07-30 08:42:33.757626: W tensorflow/compiler/xla/stream_executor/platform/default/dso_loader.cc:64] Could not load dynamic library 'libcudart.so.11.0'; dlerror: libcudart.so.11.0: cannot open shared object file: No such file or directory\n",
      "2025-07-30 08:42:33.757676: I tensorflow/compiler/xla/stream_executor/cuda/cudart_stub.cc:29] Ignore above cudart dlerror if you do not have a GPU set up on your machine.\n",
      "2025-07-30 08:42:41.737950: W tensorflow/compiler/xla/stream_executor/platform/default/dso_loader.cc:64] Could not load dynamic library 'libnvinfer.so.7'; dlerror: libnvinfer.so.7: cannot open shared object file: No such file or directory\n",
      "2025-07-30 08:42:41.738198: W tensorflow/compiler/xla/stream_executor/platform/default/dso_loader.cc:64] Could not load dynamic library 'libnvinfer_plugin.so.7'; dlerror: libnvinfer_plugin.so.7: cannot open shared object file: No such file or directory\n",
      "2025-07-30 08:42:41.738235: W tensorflow/compiler/tf2tensorrt/utils/py_utils.cc:38] TF-TRT Warning: Cannot dlopen some TensorRT libraries. If you would like to use Nvidia GPU with TensorRT, please make sure the missing libraries mentioned above are installed properly.\n"
     ]
    },
    {
     "name": "stdout",
     "output_type": "stream",
     "text": [
      "2.11.0\n"
     ]
    }
   ],
   "source": [
    "import cv2\n",
    "from urllib.request import urlopen\n",
    "from PIL import Image\n",
    "import IPython\n",
    "import numpy as np\n",
    "from matplotlib import pyplot as plt\n",
    "import pandas as pd, numpy as np\n",
    "from keras.datasets import mnist, fashion_mnist\n",
    "import random\n",
    "from sklearn.preprocessing import OneHotEncoder\n",
    "from tensorflow.keras.losses import CategoricalCrossentropy,SparseCategoricalCrossentropy,BinaryCrossentropy\n",
    "from sklearn.datasets import make_blobs\n",
    "from mlxtend.plotting import plot_decision_regions\n",
    "import tensorflow as tf\n",
    "print(tf.__version__)\n",
    "from sklearn import preprocessing\n",
    "from tensorflow.keras.utils import to_categorical\n",
    "from tensorflow.keras.models import Sequential\n",
    "from tensorflow.keras.layers import Dense"
   ]
  },
  {
   "cell_type": "markdown",
   "metadata": {},
   "source": [
    "### Defining Helper Functions\n",
    "\n",
    "*Use this section to define any helper functions to help the notebook's code readability:*\n"
   ]
  },
  {
   "cell_type": "code",
   "execution_count": 3,
   "metadata": {
    "tags": []
   },
   "outputs": [],
   "source": [
    "def generate_multiclass_blobs(num_samples_total, training_split, cluster_centers, num_classes, loss_function_used):\n",
    "    X, targets = make_blobs(n_samples = num_samples_total, centers = cluster_centers, n_features = num_classes, center_box=(0, 1), cluster_std = 1.5)\n",
    "    categorical_targets = to_categorical(targets)\n",
    "    X_training = X[training_split:, :]\n",
    "    X_testing = X[:training_split, :]\n",
    "    Targets_training = categorical_targets[training_split:]\n",
    "    Targets_testing = categorical_targets[:training_split].astype(np.int32)\n",
    "    return X_training, Targets_training, X_testing, Targets_testing\n",
    "\n",
    "def generate_binary_blobs(num_samples_total, training_split, loss_function_used):\n",
    "    X, targets = make_blobs(n_samples = num_samples_total, centers = [(0,0), (15,15)], n_features = 2, center_box=(0, 1), cluster_std = 2.5)\n",
    "    targets[np.where(targets == 0)] = -1\n",
    "    X_training = X[training_split:, :]\n",
    "    X_testing = X[:training_split, :]\n",
    "    Targets_training = targets[training_split:]\n",
    "    Targets_testing = targets[:training_split]\n",
    "    return X_training, Targets_training, X_testing, Targets_testing"
   ]
  },
  {
   "cell_type": "markdown",
   "metadata": {},
   "source": [
    "## Categorical Cross-Entropy\n"
   ]
  },
  {
   "cell_type": "markdown",
   "metadata": {},
   "source": [
    "When working on a machine learning problem, we use loss functions to optimize our models during training where a common objective is to minimize the loss function.\n",
    "\n",
    "Cross-entropy is a widely used loss or cost function, that is used to optimize classification models. Before delving into cross-entropy, let us first cover the prerequisites by learning about a common activation function called Softmax.\n"
   ]
  },
  {
   "cell_type": "markdown",
   "metadata": {},
   "source": [
    "### Softmax Activation Function\n"
   ]
  },
  {
   "cell_type": "markdown",
   "metadata": {},
   "source": [
    "Activation functions are transformations applied to the output from CNNs before loss computations.\n"
   ]
  },
  {
   "cell_type": "markdown",
   "metadata": {},
   "source": [
    "The Softmax activation function is typically placed as the last layer in a neural network and used to normalize the output of a network to a probability distribution over predicted output classes.\n",
    "\n",
    "It does so by scaling numbers/logits into probabilities for each possible outcome or class present in our dataset. The resulting probabilities in the vector sum up to one.\n",
    "\n",
    "Mathematically, Softmax is defined as follows:\n",
    "\n",
    "<img src=\"https://cf-courses-data.s3.us.cloud-object-storage.appdomain.cloud/IBMDeveloperSkillsNetwork-ML311-Coursera/labs/Module3/L1/softmax.png\" style=\"width: 30%\">\n"
   ]
  },
  {
   "cell_type": "markdown",
   "metadata": {},
   "source": [
    "Here, $\\overrightarrow{{z}}$ is an input vector to the Softmax function $\\sigma$.\n",
    "\n",
    "$\\overrightarrow{{z}}\\_i$ represents the $i$th element of the input vector, and can take on values from -inf to inf.\n",
    "\n",
    "$\\overrightarrow{{z}}_i$ represents the $i$th element of the input vector, and can take on values from -inf to inf. \n",
    "\n",
    "$e^{z_i}$ is a standard exponential function applied on the $i$th element of $z$, and the denominator is a normalizing term (L1-norm) to ensure the result is a valid probability distribution, that is, sums up to 1, and values are within the 0 - 1 range.\n"
   ]
  },
  {
   "cell_type": "markdown",
   "metadata": {},
   "source": [
    "Exponential is a steeply increasing function; that is, it increases the difference between outputs. In the final output, the largest element (which dominates the norm) is normalized to a value close to 1, while all the other elements end up being close to 0. Not only does the resulting vector show the winning class, but it also retains the original order of values.\n",
    "\n",
    "\n",
    "Another important point to note is that Softmax is not affected by negative values, as the exponent of any value is always a positive value.\n"
   ]
  },
  {
   "cell_type": "markdown",
   "metadata": {},
   "source": [
    "Let us walk through an example to understand Softmax.\n"
   ]
  },
  {
   "cell_type": "markdown",
   "metadata": {},
   "source": [
    "Imagine you are building a CNN model to classify an image as a dog, cat, fish, or horse. The fully-connected layer of your CNN gives a vector of logits. You pass the vector through the Softmax function above to obtain probabilities.\n"
   ]
  },
  {
   "cell_type": "markdown",
   "metadata": {},
   "source": [
    "![](https://cf-courses-data.s3.us.cloud-object-storage.appdomain.cloud/IBMDeveloperSkillsNetwork-ML311-Coursera/labs/Module3/L1/cce_diag.png)\n"
   ]
  },
  {
   "cell_type": "markdown",
   "metadata": {},
   "source": [
    "### One-Hot Encoding\n"
   ]
  },
  {
   "cell_type": "markdown",
   "metadata": {},
   "source": [
    "The ground truth is typically presented in form of categorical data; that is, a given image is categorized into one of these classes: dog, cat, fish, or horse.\n"
   ]
  },
  {
   "cell_type": "markdown",
   "metadata": {},
   "source": [
    "For categorical variables where no ordinal relationships exist, we can perform one-hot encoding to represent each class. This is best explained through an example.\n",
    "\n",
    "In our case, we will have four classes, and these are the corresponding one-hot encoded labels:\n"
   ]
  },
  {
   "cell_type": "markdown",
   "metadata": {},
   "source": [
    "<img src=\"https://cf-courses-data.s3.us.cloud-object-storage.appdomain.cloud/IBMDeveloperSkillsNetwork-ML311-Coursera/labs/Module3/L1/ohe_labels.png\" style=\"width: 50%\">\n"
   ]
  },
  {
   "cell_type": "markdown",
   "metadata": {},
   "source": [
    "So in one-hot encoding, we represent labels with a binary variable where for every given class, we have the value 1 for the position corresponding to that particular class and 0 elsewhere (that is, 100% probability of belonging to that class).\n"
   ]
  },
  {
   "cell_type": "markdown",
   "metadata": {},
   "source": [
    "### Back to Categorical Cross-Entropy\n"
   ]
  },
  {
   "cell_type": "markdown",
   "metadata": {},
   "source": [
    "Now that we have converted the logits to output probabilities, we need to measure how good they are; that is, measure the distance from the truth values.\n"
   ]
  },
  {
   "cell_type": "markdown",
   "metadata": {},
   "source": [
    "For instance, in the example above, the desired output is [1,0,0,0], but the model outputs [0.775,0.116,0.039,0.070].\n"
   ]
  },
  {
   "cell_type": "markdown",
   "metadata": {},
   "source": [
    "The categorical cross-entropy is mathematically defined as follows:\n"
   ]
  },
  {
   "cell_type": "markdown",
   "metadata": {},
   "source": [
    "<img src=\"https://cf-courses-data.s3.us.cloud-object-storage.appdomain.cloud/IBMDeveloperSkillsNetwork-ML311-Coursera/labs/Module3/L1/cce.png\" style=\"width: 30%\">\n"
   ]
  },
  {
   "cell_type": "markdown",
   "metadata": {},
   "source": [
    "We can use the formula above to compute the cross-entropy loss. When training our model, we iteratively update the weights to minimize the cross-entropy loss. \n",
    "\n",
    "The Softmax is continuously differentiable, and this property makes it easy to compute the derivative of the loss function and, accordingly, adjust the model weights in each iteration to minimize the loss function.\n",
    "\n",
    "In the next iteration, if our $$L\\_{CE}$$ is lower than the current one, we say that the model is *learning*.\n"
   ]
  },
  {
   "cell_type": "markdown",
   "metadata": {},
   "source": [
    "## Binary vs. Multi-Class Classification\n"
   ]
  },
  {
   "cell_type": "markdown",
   "metadata": {},
   "source": [
    "Now, let us do a quick review of binary and multi-class classification. Binary classification tasks require that all examples be assigned to one of two classes, whereas in multi-class classification, examples can belong to more than two classes.\n",
    "\n",
    "For binary classification problems, we have a final layer with a single node and a sigmoid activation function. It can map the output vector from a CNN to values between 0 and 1 before loss computations. The sigmoid function is denoted using the following formula:\n",
    "\n",
    "$$\\sigma(x) = 1/(1+e^{-x})$$\n"
   ]
  },
  {
   "cell_type": "markdown",
   "metadata": {},
   "source": [
    "Let's see binary classification and multi-class classification in action.\n"
   ]
  },
  {
   "cell_type": "markdown",
   "metadata": {},
   "source": [
    "### Binary Classification\n"
   ]
  },
  {
   "cell_type": "markdown",
   "metadata": {},
   "source": [
    "Using a helper function defined at the beginning of the notebook, we will use the `make_blobs()` function from `sklearn` to generate isotropic Gaussian blobs for classification.\n",
    "\n",
    "We will create a data set with 1000 samples, and use 750 of those samples for training a simple CNN model.\n"
   ]
  },
  {
   "cell_type": "markdown",
   "metadata": {},
   "source": [
    "Let us define a few more configuration options.\n"
   ]
  },
  {
   "cell_type": "markdown",
   "metadata": {},
   "source": [
    "*   **num_samples**: refers to the total number of samples in our dataset\n",
    "*   **test_split**: refers to the number of samples to be used for testing\n",
    "*   **cluster_centers**: we define 2 centers for our isotropic Gaussian blobs\n",
    "*   **num_classes**: we have 2 classes\n",
    "*   **loss_function_used**: since this is a binary classification problem, we use binary cross-entropy loss\n"
   ]
  },
  {
   "cell_type": "code",
   "execution_count": 4,
   "metadata": {
    "tags": []
   },
   "outputs": [],
   "source": [
    "num_samples = 1000\n",
    "test_split = 250\n",
    "cluster_centers = [(15,0), (30,15)]\n",
    "num_classes = len(cluster_centers)\n",
    "loss_function_used = BinaryCrossentropy(from_logits=True)"
   ]
  },
  {
   "cell_type": "code",
   "execution_count": 5,
   "metadata": {
    "tags": []
   },
   "outputs": [],
   "source": [
    "X_training, Targets_training, X_testing, Targets_testing=generate_binary_blobs(num_samples, test_split, loss_function_used)"
   ]
  },
  {
   "cell_type": "markdown",
   "metadata": {},
   "source": [
    "We can take look at one of the samples.\n"
   ]
  },
  {
   "cell_type": "code",
   "execution_count": 6,
   "metadata": {
    "tags": []
   },
   "outputs": [
    {
     "data": {
      "image/png": "[encoded data removed]",
      "text/plain": [
       "<Figure size 400x400 with 1 Axes>"
      ]
     },
     "metadata": {},
     "output_type": "display_data"
    }
   ],
   "source": [
    "plt.figure(figsize=(4, 4))\n",
    "plt.scatter(X_training[:,0], X_training[:,1])\n",
    "plt.title('Linearly separable data')\n",
    "plt.xlabel('X1')\n",
    "plt.ylabel('X2')\n",
    "plt.show()"
   ]
  },
  {
   "cell_type": "markdown",
   "metadata": {},
   "source": [
    "We will build a simple CNN model with two hidden layers, that uses sigmoid as the activation function, and binary cross-entropy as the loss function. Let's define the architecture of our model:\n"
   ]
  },
  {
   "cell_type": "code",
   "execution_count": 7,
   "metadata": {
    "tags": []
   },
   "outputs": [
    {
     "name": "stderr",
     "output_type": "stream",
     "text": [
      "2025-07-30 08:42:58.458956: W tensorflow/compiler/xla/stream_executor/platform/default/dso_loader.cc:64] Could not load dynamic library 'libcuda.so.1'; dlerror: libcuda.so.1: cannot open shared object file: No such file or directory\n",
      "2025-07-30 08:42:58.459008: W tensorflow/compiler/xla/stream_executor/cuda/cuda_driver.cc:265] failed call to cuInit: UNKNOWN ERROR (303)\n",
      "2025-07-30 08:42:58.459034: I tensorflow/compiler/xla/stream_executor/cuda/cuda_diagnostics.cc:156] kernel driver does not appear to be running on this host (jupyterlab-jhermienpaul): /proc/driver/nvidia/version does not exist\n",
      "2025-07-30 08:42:58.459433: I tensorflow/core/platform/cpu_feature_guard.cc:193] This TensorFlow binary is optimized with oneAPI Deep Neural Network Library (oneDNN) to use the following CPU instructions in performance-critical operations:  AVX2 AVX512F AVX512_VNNI FMA\n",
      "To enable them in other operations, rebuild TensorFlow with the appropriate compiler flags.\n"
     ]
    }
   ],
   "source": [
    "feature_vector_shape = X_training.shape[1]\n",
    "input_shape = (feature_vector_shape,)\n",
    "\n",
    "model = Sequential()\n",
    "model.add(Dense(12, input_shape=input_shape, activation='relu', kernel_initializer='he_uniform'))\n",
    "model.add(Dense(8, activation='relu', kernel_initializer='he_uniform'))\n",
    "model.add(Dense(1, activation = 'sigmoid'))"
   ]
  },
  {
   "cell_type": "code",
   "execution_count": 8,
   "metadata": {
    "tags": []
   },
   "outputs": [
    {
     "name": "stderr",
     "output_type": "stream",
     "text": [
      "WARNING:absl:`lr` is deprecated, please use `learning_rate` instead, or use the legacy optimizer, e.g.,tf.keras.optimizers.legacy.Adam.\n"
     ]
    },
    {
     "name": "stdout",
     "output_type": "stream",
     "text": [
      "Epoch 1/30\n"
     ]
    },
    {
     "name": "stderr",
     "output_type": "stream",
     "text": [
      "/home/jupyterlab/conda/envs/python/lib/python3.7/site-packages/keras/backend.py:5677: UserWarning: \"`binary_crossentropy` received `from_logits=True`, but the `output` argument was produced by a Sigmoid activation and thus does not represent logits. Was this intended?\n",
      "  output, from_logits, \"Sigmoid\", \"binary_crossentropy\"\n"
     ]
    },
    {
     "name": "stdout",
     "output_type": "stream",
     "text": [
      "120/120 [==============================] - 18s 95ms/step - loss: 0.8124 - accuracy: 0.1550 - val_loss: -1.1114 - val_accuracy: 0.4133\n",
      "Epoch 2/30\n",
      "120/120 [==============================] - 7s 56ms/step - loss: -1.8293 - accuracy: 0.4533 - val_loss: -3.1832 - val_accuracy: 0.4400\n",
      "Epoch 3/30\n",
      "120/120 [==============================] - 8s 65ms/step - loss: -4.1829 - accuracy: 0.4683 - val_loss: -7.0791 - val_accuracy: 0.4400\n",
      "Epoch 4/30\n",
      "120/120 [==============================] - 8s 66ms/step - loss: -9.0021 - accuracy: 0.4667 - val_loss: -14.7215 - val_accuracy: 0.4200\n",
      "Epoch 5/30\n",
      "120/120 [==============================] - 7s 55ms/step - loss: -17.7279 - accuracy: 0.4600 - val_loss: -27.9065 - val_accuracy: 0.4267\n",
      "Epoch 6/30\n",
      "120/120 [==============================] - 7s 55ms/step - loss: -31.4300 - accuracy: 0.4633 - val_loss: -47.1387 - val_accuracy: 0.4400\n",
      "Epoch 7/30\n",
      "120/120 [==============================] - 7s 61ms/step - loss: -51.1005 - accuracy: 0.4600 - val_loss: -73.4320 - val_accuracy: 0.4533\n",
      "Epoch 8/30\n",
      "120/120 [==============================] - 8s 70ms/step - loss: -77.6865 - accuracy: 0.4667 - val_loss: -109.0211 - val_accuracy: 0.4467\n",
      "Epoch 9/30\n",
      "120/120 [==============================] - 9s 74ms/step - loss: -112.0526 - accuracy: 0.4667 - val_loss: -154.2056 - val_accuracy: 0.4467\n",
      "Epoch 10/30\n",
      "120/120 [==============================] - 8s 65ms/step - loss: -154.4490 - accuracy: 0.4700 - val_loss: -208.5503 - val_accuracy: 0.4467\n",
      "Epoch 11/30\n",
      "120/120 [==============================] - 6s 49ms/step - loss: -205.6416 - accuracy: 0.4683 - val_loss: -274.1212 - val_accuracy: 0.4400\n",
      "Epoch 12/30\n",
      "120/120 [==============================] - 7s 62ms/step - loss: -266.9367 - accuracy: 0.4733 - val_loss: -351.5806 - val_accuracy: 0.4533\n",
      "Epoch 13/30\n",
      "120/120 [==============================] - 7s 62ms/step - loss: -339.1475 - accuracy: 0.4750 - val_loss: -441.1890 - val_accuracy: 0.4533\n",
      "Epoch 14/30\n",
      "120/120 [==============================] - 8s 67ms/step - loss: -422.2563 - accuracy: 0.4700 - val_loss: -544.8152 - val_accuracy: 0.4533\n",
      "Epoch 15/30\n",
      "120/120 [==============================] - 8s 70ms/step - loss: -518.3549 - accuracy: 0.4800 - val_loss: -662.4518 - val_accuracy: 0.4533\n",
      "Epoch 16/30\n",
      "120/120 [==============================] - 8s 64ms/step - loss: -628.2100 - accuracy: 0.4783 - val_loss: -799.0815 - val_accuracy: 0.4533\n",
      "Epoch 17/30\n",
      "120/120 [==============================] - 8s 68ms/step - loss: -752.5005 - accuracy: 0.4783 - val_loss: -946.6611 - val_accuracy: 0.4533\n",
      "Epoch 18/30\n",
      "120/120 [==============================] - 9s 75ms/step - loss: -889.6104 - accuracy: 0.4783 - val_loss: -1115.5643 - val_accuracy: 0.4600\n",
      "Epoch 19/30\n",
      "120/120 [==============================] - 9s 73ms/step - loss: -1041.8416 - accuracy: 0.4767 - val_loss: -1293.4854 - val_accuracy: 0.4600\n",
      "Epoch 20/30\n",
      "120/120 [==============================] - 8s 67ms/step - loss: -1207.1519 - accuracy: 0.4800 - val_loss: -1497.3838 - val_accuracy: 0.4600\n",
      "Epoch 21/30\n",
      "120/120 [==============================] - 8s 66ms/step - loss: -1388.4778 - accuracy: 0.4783 - val_loss: -1711.7177 - val_accuracy: 0.4600\n",
      "Epoch 22/30\n",
      "120/120 [==============================] - 8s 68ms/step - loss: -1584.5154 - accuracy: 0.4833 - val_loss: -1945.4868 - val_accuracy: 0.4600\n",
      "Epoch 23/30\n",
      "120/120 [==============================] - 6s 48ms/step - loss: -1797.3671 - accuracy: 0.4850 - val_loss: -2198.0615 - val_accuracy: 0.4600\n",
      "Epoch 24/30\n",
      "120/120 [==============================] - 8s 63ms/step - loss: -2025.1704 - accuracy: 0.4800 - val_loss: -2465.2224 - val_accuracy: 0.4600\n",
      "Epoch 25/30\n",
      "120/120 [==============================] - 5s 45ms/step - loss: -2269.7378 - accuracy: 0.4850 - val_loss: -2754.0688 - val_accuracy: 0.4600\n",
      "Epoch 26/30\n",
      "120/120 [==============================] - 7s 59ms/step - loss: -2529.1399 - accuracy: 0.4867 - val_loss: -3064.5361 - val_accuracy: 0.4600\n",
      "Epoch 27/30\n",
      "120/120 [==============================] - 5s 39ms/step - loss: -2806.0894 - accuracy: 0.4850 - val_loss: -3383.7371 - val_accuracy: 0.4600\n",
      "Epoch 28/30\n",
      "120/120 [==============================] - 6s 48ms/step - loss: -3098.6809 - accuracy: 0.4867 - val_loss: -3736.6096 - val_accuracy: 0.4600\n",
      "Epoch 29/30\n",
      "120/120 [==============================] - 4s 35ms/step - loss: -3408.4263 - accuracy: 0.4850 - val_loss: -4093.4663 - val_accuracy: 0.4600\n",
      "Epoch 30/30\n",
      "120/120 [==============================] - 8s 67ms/step - loss: -3734.9753 - accuracy: 0.4867 - val_loss: -4471.4316 - val_accuracy: 0.4600\n"
     ]
    }
   ],
   "source": [
    "model.compile(loss=loss_function_used, optimizer=tf.keras.optimizers.Adam(lr=0.01), metrics=['accuracy'])\n",
    "history = model.fit(X_training, Targets_training, epochs=30, batch_size=5, verbose=1, validation_split=0.2)"
   ]
  },
  {
   "cell_type": "markdown",
   "metadata": {},
   "source": [
    "We will now use the trained model to make predictions on an unseen test dataset.\n"
   ]
  },
  {
   "cell_type": "code",
   "execution_count": 9,
   "metadata": {
    "tags": []
   },
   "outputs": [
    {
     "name": "stdout",
     "output_type": "stream",
     "text": [
      "8/8 [==============================] - 2s 60ms/step - loss: -3489.9138 - accuracy: 0.5120\n",
      "Test results - Loss: -3489.913818359375 - Accuracy: 51.20000243186951%\n"
     ]
    }
   ],
   "source": [
    "test_results = model.evaluate(X_testing, Targets_testing, verbose=1)\n",
    "print(f'Test results - Loss: {test_results[0]} - Accuracy: {test_results[1]*100}%')"
   ]
  },
  {
   "cell_type": "code",
   "execution_count": 10,
   "metadata": {
    "tags": []
   },
   "outputs": [
    {
     "name": "stdout",
     "output_type": "stream",
     "text": [
      "9600/9600 [==============================] - 438s 46ms/step\n"
     ]
    },
    {
     "data": {
      "image/png": "[encoded data removed]",
      "text/plain": [
       "<Figure size 640x480 with 1 Axes>"
      ]
     },
     "metadata": {},
     "output_type": "display_data"
    },
    {
     "data": {
      "text/plain": [
       "<Figure size 400x400 with 0 Axes>"
      ]
     },
     "metadata": {},
     "output_type": "display_data"
    }
   ],
   "source": [
    "plot_decision_regions(X_testing, Targets_testing, clf=model, legend=2)\n",
    "plt.figure(figsize=(4, 4))\n",
    "plt.show()"
   ]
  },
  {
   "cell_type": "markdown",
   "metadata": {},
   "source": [
    "The model successfully classifies the two clusters into two classes.\n"
   ]
  },
  {
   "cell_type": "markdown",
   "metadata": {},
   "source": [
    "### Multi-Class Classification\n"
   ]
  },
  {
   "cell_type": "markdown",
   "metadata": {},
   "source": [
    "Similar to binary classification, let's create another data set with 1000 samples, and use 750 of those samples for training a simple CNN model.\n"
   ]
  },
  {
   "cell_type": "markdown",
   "metadata": {},
   "source": [
    "Let us define a few more configuration options.\n"
   ]
  },
  {
   "cell_type": "markdown",
   "metadata": {},
   "source": [
    "*   **num_samples**: refers to the total number of samples in our dataset\n",
    "*   **test_split**: refers to the number of samples to be used for testing\n",
    "*   **cluster_centers**: we define 3 centers for our isotropic Gaussian blobs\n",
    "*   **num_classes**: we have 3 classes\n",
    "*   **loss_function_used**: since this is a multi-class classification problem, we use categorical cross-entropy loss\n"
   ]
  },
  {
   "cell_type": "code",
   "execution_count": 11,
   "metadata": {
    "tags": []
   },
   "outputs": [],
   "source": [
    "num_samples = 1000\n",
    "train_split = 250\n",
    "cluster_centers = [(-10, 5), (0, 0), (10, 5)]\n",
    "num_classes = len(cluster_centers)\n",
    "loss_function_used = CategoricalCrossentropy(from_logits=True)"
   ]
  },
  {
   "cell_type": "code",
   "execution_count": 12,
   "metadata": {
    "tags": []
   },
   "outputs": [],
   "source": [
    "X_training, Targets_training, X_testing, Targets_testing= generate_multiclass_blobs(num_samples, train_split,\n",
    "              cluster_centers, num_classes,\n",
    "              loss_function_used)"
   ]
  },
  {
   "cell_type": "markdown",
   "metadata": {},
   "source": [
    "Let's take a look at one of the samples.\n"
   ]
  },
  {
   "cell_type": "code",
   "execution_count": 13,
   "metadata": {
    "tags": []
   },
   "outputs": [
    {
     "data": {
      "image/png": "[encoded data removed]",
      "text/plain": [
       "<Figure size 640x480 with 1 Axes>"
      ]
     },
     "metadata": {},
     "output_type": "display_data"
    }
   ],
   "source": [
    "plt.scatter(X_training[:,0], X_training[:,1])\n",
    "plt.title('Linearly separable data')\n",
    "plt.xlabel('X1')\n",
    "plt.ylabel('X2')\n",
    "plt.show()"
   ]
  },
  {
   "cell_type": "markdown",
   "metadata": {},
   "source": [
    "We will build a simple CNN model with two hidden layers, that uses softmax as the activation function, and categorical cross-entropy as the loss function. Let's define the architecture of our model:\n"
   ]
  },
  {
   "cell_type": "code",
   "execution_count": 14,
   "metadata": {
    "tags": []
   },
   "outputs": [],
   "source": [
    "feature_vector_shape = X_training.shape[1]\n",
    "input_shape = (feature_vector_shape,)\n",
    "\n",
    "model = Sequential()\n",
    "model.add(Dense(12, input_shape=input_shape, activation='relu', kernel_initializer='he_uniform'))\n",
    "model.add(Dense(8, activation='relu', kernel_initializer='he_uniform'))\n",
    "model.add(Dense(num_classes, activation='softmax'))"
   ]
  },
  {
   "cell_type": "code",
   "execution_count": 15,
   "metadata": {
    "tags": []
   },
   "outputs": [
    {
     "name": "stderr",
     "output_type": "stream",
     "text": [
      "WARNING:absl:`lr` is deprecated, please use `learning_rate` instead, or use the legacy optimizer, e.g.,tf.keras.optimizers.legacy.Adam.\n"
     ]
    },
    {
     "name": "stdout",
     "output_type": "stream",
     "text": [
      "Epoch 1/30\n"
     ]
    },
    {
     "name": "stderr",
     "output_type": "stream",
     "text": [
      "/home/jupyterlab/conda/envs/python/lib/python3.7/site-packages/keras/backend.py:5535: UserWarning: \"`categorical_crossentropy` received `from_logits=True`, but the `output` argument was produced by a Softmax activation and thus does not represent logits. Was this intended?\n",
      "  output, from_logits, \"Softmax\", \"categorical_crossentropy\"\n"
     ]
    },
    {
     "name": "stdout",
     "output_type": "stream",
     "text": [
      "120/120 [==============================] - 17s 83ms/step - loss: 3.8417 - accuracy: 0.3333 - val_loss: 0.9511 - val_accuracy: 0.3467\n",
      "Epoch 2/30\n",
      "120/120 [==============================] - 8s 65ms/step - loss: 0.6668 - accuracy: 0.6833 - val_loss: 0.5587 - val_accuracy: 0.7667\n",
      "Epoch 3/30\n",
      "120/120 [==============================] - 9s 78ms/step - loss: 0.5155 - accuracy: 0.7167 - val_loss: 0.4450 - val_accuracy: 0.8133\n",
      "Epoch 4/30\n",
      "120/120 [==============================] - 8s 69ms/step - loss: 0.4141 - accuracy: 0.7667 - val_loss: 0.3471 - val_accuracy: 0.8467\n",
      "Epoch 5/30\n",
      "120/120 [==============================] - 9s 75ms/step - loss: 0.2949 - accuracy: 0.8700 - val_loss: 0.2232 - val_accuracy: 0.9400\n",
      "Epoch 6/30\n",
      "120/120 [==============================] - 9s 78ms/step - loss: 0.1639 - accuracy: 0.9500 - val_loss: 0.1200 - val_accuracy: 0.9600\n",
      "Epoch 7/30\n",
      "120/120 [==============================] - 9s 76ms/step - loss: 0.0966 - accuracy: 0.9767 - val_loss: 0.0723 - val_accuracy: 0.9933\n",
      "Epoch 8/30\n",
      "120/120 [==============================] - 10s 80ms/step - loss: 0.0674 - accuracy: 0.9833 - val_loss: 0.0546 - val_accuracy: 0.9933\n",
      "Epoch 9/30\n",
      "120/120 [==============================] - 10s 84ms/step - loss: 0.0505 - accuracy: 0.9900 - val_loss: 0.0439 - val_accuracy: 0.9867\n",
      "Epoch 10/30\n",
      "120/120 [==============================] - 9s 75ms/step - loss: 0.0394 - accuracy: 0.9933 - val_loss: 0.0406 - val_accuracy: 0.9933\n",
      "Epoch 11/30\n",
      "120/120 [==============================] - 9s 77ms/step - loss: 0.0326 - accuracy: 0.9950 - val_loss: 0.0298 - val_accuracy: 0.9933\n",
      "Epoch 12/30\n",
      "120/120 [==============================] - 9s 74ms/step - loss: 0.0262 - accuracy: 0.9967 - val_loss: 0.0247 - val_accuracy: 0.9933\n",
      "Epoch 13/30\n",
      "120/120 [==============================] - 9s 74ms/step - loss: 0.0222 - accuracy: 0.9967 - val_loss: 0.0212 - val_accuracy: 0.9933\n",
      "Epoch 14/30\n",
      "120/120 [==============================] - 10s 82ms/step - loss: 0.0186 - accuracy: 0.9967 - val_loss: 0.0201 - val_accuracy: 0.9933\n",
      "Epoch 15/30\n",
      "120/120 [==============================] - 10s 83ms/step - loss: 0.0155 - accuracy: 0.9983 - val_loss: 0.0179 - val_accuracy: 0.9933\n",
      "Epoch 16/30\n",
      "120/120 [==============================] - 10s 85ms/step - loss: 0.0137 - accuracy: 0.9983 - val_loss: 0.0142 - val_accuracy: 0.9933\n",
      "Epoch 17/30\n",
      "120/120 [==============================] - 9s 76ms/step - loss: 0.0116 - accuracy: 0.9983 - val_loss: 0.0156 - val_accuracy: 0.9933\n",
      "Epoch 18/30\n",
      "120/120 [==============================] - 9s 73ms/step - loss: 0.0099 - accuracy: 0.9983 - val_loss: 0.0118 - val_accuracy: 0.9933\n",
      "Epoch 19/30\n",
      "120/120 [==============================] - 10s 81ms/step - loss: 0.0089 - accuracy: 0.9983 - val_loss: 0.0122 - val_accuracy: 0.9933\n",
      "Epoch 20/30\n",
      "120/120 [==============================] - 10s 86ms/step - loss: 0.0080 - accuracy: 0.9983 - val_loss: 0.0110 - val_accuracy: 0.9933\n",
      "Epoch 21/30\n",
      "120/120 [==============================] - 10s 87ms/step - loss: 0.0071 - accuracy: 0.9983 - val_loss: 0.0113 - val_accuracy: 0.9933\n",
      "Epoch 22/30\n",
      "120/120 [==============================] - 10s 85ms/step - loss: 0.0065 - accuracy: 0.9983 - val_loss: 0.0126 - val_accuracy: 0.9933\n",
      "Epoch 23/30\n",
      "120/120 [==============================] - 9s 77ms/step - loss: 0.0059 - accuracy: 0.9983 - val_loss: 0.0104 - val_accuracy: 0.9933\n",
      "Epoch 24/30\n",
      "120/120 [==============================] - 13s 109ms/step - loss: 0.0055 - accuracy: 0.9983 - val_loss: 0.0136 - val_accuracy: 0.9933\n",
      "Epoch 25/30\n",
      "120/120 [==============================] - 10s 84ms/step - loss: 0.0050 - accuracy: 0.9983 - val_loss: 0.0135 - val_accuracy: 0.9933\n",
      "Epoch 26/30\n",
      "120/120 [==============================] - 10s 83ms/step - loss: 0.0046 - accuracy: 0.9983 - val_loss: 0.0098 - val_accuracy: 0.9933\n",
      "Epoch 27/30\n",
      "120/120 [==============================] - 10s 80ms/step - loss: 0.0041 - accuracy: 1.0000 - val_loss: 0.0131 - val_accuracy: 0.9933\n",
      "Epoch 28/30\n",
      "120/120 [==============================] - 8s 66ms/step - loss: 0.0036 - accuracy: 1.0000 - val_loss: 0.0071 - val_accuracy: 0.9933\n",
      "Epoch 29/30\n",
      "120/120 [==============================] - 9s 79ms/step - loss: 0.0033 - accuracy: 1.0000 - val_loss: 0.0111 - val_accuracy: 0.9933\n",
      "Epoch 30/30\n",
      "120/120 [==============================] - 9s 76ms/step - loss: 0.0033 - accuracy: 0.9983 - val_loss: 0.0147 - val_accuracy: 0.9933\n"
     ]
    }
   ],
   "source": [
    "model.compile(loss=loss_function_used, optimizer=tf.keras.optimizers.Adam(lr=0.001), metrics=['accuracy'])\n",
    "history = model.fit(X_training, Targets_training, epochs=30, batch_size=5, verbose=1, validation_split=0.2)"
   ]
  },
  {
   "cell_type": "markdown",
   "metadata": {},
   "source": [
    "We will now use the trained model to make predictions on an unseen test dataset.\n"
   ]
  },
  {
   "cell_type": "code",
   "execution_count": 16,
   "metadata": {
    "tags": []
   },
   "outputs": [
    {
     "name": "stdout",
     "output_type": "stream",
     "text": [
      "8/8 [==============================] - 2s 115ms/step - loss: 0.0052 - accuracy: 1.0000\n",
      "Test results - Loss: 0.005220182240009308 - Accuracy: 100.0%\n"
     ]
    }
   ],
   "source": [
    "test_results = model.evaluate(X_testing, Targets_testing, verbose=1)\n",
    "print(f'Test results - Loss: {test_results[0]} - Accuracy: {test_results[1]*100}%')"
   ]
  },
  {
   "cell_type": "code",
   "execution_count": 17,
   "metadata": {
    "tags": []
   },
   "outputs": [],
   "source": [
    "class Onehot2Int(object):\n",
    "\n",
    "    def __init__(self, model):\n",
    "        self.model = model\n",
    "\n",
    "    def predict(self, X):\n",
    "        y_pred = self.model.predict(X)\n",
    "        return np.argmax(y_pred, axis=1)\n",
    "\n",
    "# Fit keras_model\n",
    "keras_model_no_ohe = Onehot2Int(model)"
   ]
  },
  {
   "cell_type": "code",
   "execution_count": 18,
   "metadata": {
    "tags": []
   },
   "outputs": [
    {
     "name": "stdout",
     "output_type": "stream",
     "text": [
      "9600/9600 [==============================] - 477s 50ms/step\n"
     ]
    },
    {
     "data": {
      "image/png": "[encoded data removed]",
      "text/plain": [
       "<Figure size 640x480 with 1 Axes>"
      ]
     },
     "metadata": {},
     "output_type": "display_data"
    }
   ],
   "source": [
    "# Plot decision boundary\n",
    "plot_decision_regions(X_testing, np.argmax(Targets_testing, axis=1), clf=keras_model_no_ohe, legend=3)\n",
    "plt.show()"
   ]
  },
  {
   "cell_type": "markdown",
   "metadata": {},
   "source": [
    "## Example: MNIST Hand-Written Digits\n"
   ]
  },
  {
   "cell_type": "markdown",
   "metadata": {},
   "source": [
    "Let us first load our MNIST hand-written dataset using the Keras library.\n"
   ]
  },
  {
   "cell_type": "code",
   "execution_count": 19,
   "metadata": {
    "tags": []
   },
   "outputs": [
    {
     "name": "stdout",
     "output_type": "stream",
     "text": [
      "Downloading data from https://storage.googleapis.com/tensorflow/tf-keras-datasets/mnist.npz\n",
      "11490434/11490434 [==============================] - 0s 0us/step\n"
     ]
    }
   ],
   "source": [
    "(X_train, y_train), (X_test, y_test) = mnist.load_data() "
   ]
  },
  {
   "cell_type": "code",
   "execution_count": 20,
   "metadata": {
    "tags": []
   },
   "outputs": [
    {
     "name": "stdout",
     "output_type": "stream",
     "text": [
      "X_train shape (60000, 28, 28)\n",
      "y_train shape (60000,)\n",
      "X_test shape (10000, 28, 28)\n",
      "y_test shape (10000,)\n"
     ]
    }
   ],
   "source": [
    "print(\"X_train shape\", X_train.shape)\n",
    "print(\"y_train shape\", y_train.shape)\n",
    "print(\"X_test shape\", X_test.shape)\n",
    "print(\"y_test shape\", y_test.shape)"
   ]
  },
  {
   "cell_type": "markdown",
   "metadata": {},
   "source": [
    "Now we can plot some sample digits from the training set.\n"
   ]
  },
  {
   "cell_type": "code",
   "execution_count": 21,
   "metadata": {
    "tags": []
   },
   "outputs": [
    {
     "data": {
      "image/png": "[encoded data removed]",
      "text/plain": [
       "<Figure size 600x600 with 4 Axes>"
      ]
     },
     "metadata": {},
     "output_type": "display_data"
    }
   ],
   "source": [
    "plt.rcParams['figure.figsize'] = (6,6)\n",
    "\n",
    "for i in range(4):\n",
    "    plt.subplot(2,2,i+1)\n",
    "    num = random.randint(0, len(X_train))\n",
    "    plt.imshow(X_train[num], cmap='gray', interpolation='none')\n",
    "    plt.title(\"class {}\".format(y_train[num]))\n",
    "\n",
    "plt.tight_layout()"
   ]
  },
  {
   "cell_type": "markdown",
   "metadata": {},
   "source": [
    "Each image is on a grayscale (that is, only 1 channel) and is of size 28x28. We need to flatten each image by reshaping our matrix from 28x28 to a 784-length vector.\n"
   ]
  },
  {
   "cell_type": "code",
   "execution_count": 22,
   "metadata": {
    "tags": []
   },
   "outputs": [
    {
     "name": "stdout",
     "output_type": "stream",
     "text": [
      "(60000, 784)\n",
      "(10000, 784)\n"
     ]
    }
   ],
   "source": [
    "X_train = X_train.reshape(X_train.shape[0], X_train.shape[1]* X_train.shape[2])\n",
    "X_test = X_test.reshape(X_test.shape[0], X_test.shape[1] * X_test.shape[2])\n",
    "\n",
    "print(X_train.shape)\n",
    "print(X_test.shape)"
   ]
  },
  {
   "cell_type": "markdown",
   "metadata": {},
   "source": [
    "Next, we need to change integers to 32-bit floating point numbers. We would also need to normalize our input to be in the range [0, 1], rather than [0-255].\n"
   ]
  },
  {
   "cell_type": "code",
   "execution_count": 23,
   "metadata": {
    "tags": []
   },
   "outputs": [],
   "source": [
    "X_train = X_train.astype('float32')\n",
    "X_test = X_test.astype('float32')\n",
    "\n",
    "X_train /= 255\n",
    "X_test /= 255"
   ]
  },
  {
   "cell_type": "markdown",
   "metadata": {},
   "source": [
    "Our target variable, `y`, is an array of the following form:\n"
   ]
  },
  {
   "cell_type": "code",
   "execution_count": 24,
   "metadata": {
    "tags": []
   },
   "outputs": [
    {
     "data": {
      "text/plain": [
       "array([5, 0, 4, ..., 5, 6, 8], dtype=uint8)"
      ]
     },
     "execution_count": 24,
     "metadata": {},
     "output_type": "execute_result"
    }
   ],
   "source": [
    "y_train"
   ]
  },
  {
   "cell_type": "markdown",
   "metadata": {},
   "source": [
    "The categorical cross-entropy function expects that we provide one-hot encoded representations of the labels and predictions. Let us one-hot encode our target, `y`, using the `OneHotEncoder()` function from sklearn.\n"
   ]
  },
  {
   "cell_type": "code",
   "execution_count": 25,
   "metadata": {
    "tags": []
   },
   "outputs": [
    {
     "name": "stdout",
     "output_type": "stream",
     "text": [
      "[array([0, 1, 2, 3, 4, 5, 6, 7, 8, 9], dtype=uint8)]\n"
     ]
    }
   ],
   "source": [
    "enc = OneHotEncoder(sparse=False)\n",
    "enc.fit(y_train.reshape(-1, 1))\n",
    "print(enc.categories_)"
   ]
  },
  {
   "cell_type": "code",
   "execution_count": 26,
   "metadata": {
    "tags": []
   },
   "outputs": [],
   "source": [
    "y_train_enc = enc.transform(y_train.reshape(-1,1))\n",
    "y_test_enc = enc.transform(y_test.reshape(-1,1))"
   ]
  },
  {
   "cell_type": "markdown",
   "metadata": {},
   "source": [
    "In this multi-class classification task, we want to interpret our logistic regression model's results as a probability distribution; that is the model should output a vector that represents the probability of the given image belonging to each of the 10 classes. \n",
    "\n",
    "All elements in the vector should fall into the \\[0,1] range and sum up to 1. In order to set up our classification problem this way, we can feed the model output to a softmax function to produce probabilities.\n"
   ]
  },
  {
   "cell_type": "markdown",
   "metadata": {},
   "source": [
    "For training our multi-class logistic classifier, we need a loss function. Categorical cross-entropy is a loss function widely used with softmax. We need to minimize this loss function in order to determine an optimal set of parameters.\n"
   ]
  },
  {
   "cell_type": "markdown",
   "metadata": {},
   "source": [
    "We will build a simple CNN model with two hidden layers, that uses softmax as the activation function, and categorical cross-entropy as the loss function. Let's define the architecture of our model:\n"
   ]
  },
  {
   "cell_type": "code",
   "execution_count": 27,
   "metadata": {
    "tags": []
   },
   "outputs": [],
   "source": [
    "feature_vector_shape = X_train.shape[1]\n",
    "input_shape = (feature_vector_shape,)\n",
    "num_classes = 10\n",
    "loss_function_used=CategoricalCrossentropy(from_logits=True)\n",
    "model = Sequential()\n",
    "model.add(Dense(12, input_shape=input_shape, activation='relu', kernel_initializer='he_uniform'))\n",
    "model.add(Dense(8, activation='relu', kernel_initializer='he_uniform'))\n",
    "model.add(Dense(num_classes, activation='softmax'))"
   ]
  },
  {
   "cell_type": "code",
   "execution_count": 28,
   "metadata": {
    "tags": []
   },
   "outputs": [
    {
     "name": "stderr",
     "output_type": "stream",
     "text": [
      "WARNING:absl:`lr` is deprecated, please use `learning_rate` instead, or use the legacy optimizer, e.g.,tf.keras.optimizers.legacy.Adam.\n"
     ]
    },
    {
     "name": "stdout",
     "output_type": "stream",
     "text": [
      "Epoch 1/25\n"
     ]
    },
    {
     "name": "stderr",
     "output_type": "stream",
     "text": [
      "/home/jupyterlab/conda/envs/python/lib/python3.7/site-packages/keras/backend.py:5535: UserWarning: \"`categorical_crossentropy` received `from_logits=True`, but the `output` argument was produced by a Softmax activation and thus does not represent logits. Was this intended?\n",
      "  output, from_logits, \"Softmax\", \"categorical_crossentropy\"\n"
     ]
    },
    {
     "name": "stdout",
     "output_type": "stream",
     "text": [
      "9600/9600 [==============================] - 700s 72ms/step - loss: 0.4290 - accuracy: 0.8715 - val_loss: 0.2641 - val_accuracy: 0.9247\n",
      "Epoch 2/25\n",
      "9600/9600 [==============================] - 688s 72ms/step - loss: 0.2644 - accuracy: 0.9231 - val_loss: 0.2486 - val_accuracy: 0.9282\n",
      "Epoch 3/25\n",
      "9600/9600 [==============================] - 583s 61ms/step - loss: 0.2368 - accuracy: 0.9314 - val_loss: 0.2505 - val_accuracy: 0.9285\n",
      "Epoch 4/25\n",
      "9600/9600 [==============================] - 563s 59ms/step - loss: 0.2216 - accuracy: 0.9344 - val_loss: 0.2255 - val_accuracy: 0.9359\n",
      "Epoch 5/25\n",
      "9600/9600 [==============================] - 626s 65ms/step - loss: 0.2099 - accuracy: 0.9390 - val_loss: 0.2238 - val_accuracy: 0.9359\n",
      "Epoch 6/25\n",
      "9600/9600 [==============================] - 689s 72ms/step - loss: 0.2021 - accuracy: 0.9418 - val_loss: 0.2185 - val_accuracy: 0.9392\n",
      "Epoch 7/25\n",
      "9600/9600 [==============================] - 263s 27ms/step - loss: 0.1950 - accuracy: 0.9435 - val_loss: 0.2068 - val_accuracy: 0.9395\n",
      "Epoch 8/25\n",
      "9600/9600 [==============================] - 120s 12ms/step - loss: 0.1891 - accuracy: 0.9452 - val_loss: 0.2169 - val_accuracy: 0.9392\n",
      "Epoch 9/25\n",
      "9600/9600 [==============================] - 136s 14ms/step - loss: 0.1861 - accuracy: 0.9455 - val_loss: 0.2222 - val_accuracy: 0.9362\n",
      "Epoch 10/25\n",
      "9600/9600 [==============================] - 131s 14ms/step - loss: 0.1815 - accuracy: 0.9472 - val_loss: 0.2039 - val_accuracy: 0.9441\n",
      "Epoch 11/25\n",
      "9600/9600 [==============================] - 128s 13ms/step - loss: 0.1789 - accuracy: 0.9485 - val_loss: 0.2257 - val_accuracy: 0.9348\n",
      "Epoch 12/25\n",
      "9600/9600 [==============================] - 130s 14ms/step - loss: 0.1767 - accuracy: 0.9474 - val_loss: 0.2169 - val_accuracy: 0.9389\n",
      "Epoch 13/25\n",
      "9600/9600 [==============================] - 129s 13ms/step - loss: 0.1726 - accuracy: 0.9496 - val_loss: 0.2274 - val_accuracy: 0.9348\n",
      "Epoch 14/25\n",
      "9600/9600 [==============================] - 132s 14ms/step - loss: 0.1717 - accuracy: 0.9487 - val_loss: 0.2081 - val_accuracy: 0.9439\n",
      "Epoch 15/25\n",
      "9600/9600 [==============================] - 131s 14ms/step - loss: 0.1689 - accuracy: 0.9506 - val_loss: 0.2245 - val_accuracy: 0.9378\n",
      "Epoch 16/25\n",
      "9600/9600 [==============================] - 141s 15ms/step - loss: 0.1675 - accuracy: 0.9508 - val_loss: 0.2033 - val_accuracy: 0.9448\n",
      "Epoch 17/25\n",
      "9600/9600 [==============================] - 171s 18ms/step - loss: 0.1671 - accuracy: 0.9505 - val_loss: 0.2090 - val_accuracy: 0.9424\n",
      "Epoch 18/25\n",
      "9600/9600 [==============================] - 159s 17ms/step - loss: 0.1652 - accuracy: 0.9520 - val_loss: 0.2135 - val_accuracy: 0.9413\n",
      "Epoch 19/25\n",
      "9600/9600 [==============================] - 173s 18ms/step - loss: 0.1618 - accuracy: 0.9516 - val_loss: 0.2076 - val_accuracy: 0.9423\n",
      "Epoch 20/25\n",
      "9600/9600 [==============================] - 157s 16ms/step - loss: 0.1611 - accuracy: 0.9524 - val_loss: 0.2126 - val_accuracy: 0.9433\n",
      "Epoch 21/25\n",
      "9600/9600 [==============================] - 164s 17ms/step - loss: 0.1598 - accuracy: 0.9531 - val_loss: 0.2155 - val_accuracy: 0.9386\n",
      "Epoch 22/25\n",
      "9600/9600 [==============================] - 149s 16ms/step - loss: 0.1576 - accuracy: 0.9533 - val_loss: 0.2095 - val_accuracy: 0.9427\n",
      "Epoch 23/25\n",
      "9600/9600 [==============================] - 165s 17ms/step - loss: 0.1580 - accuracy: 0.9537 - val_loss: 0.2084 - val_accuracy: 0.9432\n",
      "Epoch 24/25\n",
      "9600/9600 [==============================] - 153s 16ms/step - loss: 0.1563 - accuracy: 0.9536 - val_loss: 0.2300 - val_accuracy: 0.9348\n",
      "Epoch 25/25\n",
      "9600/9600 [==============================] - 161s 17ms/step - loss: 0.1547 - accuracy: 0.9542 - val_loss: 0.2179 - val_accuracy: 0.9413\n"
     ]
    }
   ],
   "source": [
    "model.compile(loss=loss_function_used, optimizer=tf.keras.optimizers.Adam(lr=0.001), metrics=['accuracy'])\n",
    "history = model.fit(X_train, y_train_enc, epochs=25, batch_size=5, verbose=1, validation_split=0.2)"
   ]
  },
  {
   "cell_type": "code",
   "execution_count": 29,
   "metadata": {
    "tags": []
   },
   "outputs": [
    {
     "name": "stdout",
     "output_type": "stream",
     "text": [
      "313/313 [==============================] - 4s 12ms/step - loss: 0.2271 - accuracy: 0.9422\n",
      "Test results - Loss: 0.22708718478679657 - Accuracy: 94.22000050544739%\n"
     ]
    }
   ],
   "source": [
    "test_results = model.evaluate(X_test, y_test_enc, verbose=1)\n",
    "print(f'Test results - Loss: {test_results[0]} - Accuracy: {test_results[1]*100}%')"
   ]
  },
  {
   "cell_type": "markdown",
   "metadata": {},
   "source": [
    "## Example: Single-Digit House Number Recognition\n"
   ]
  },
  {
   "cell_type": "markdown",
   "metadata": {},
   "source": [
    "Recognizing multi-digit text from photographs is a hard problem. In this example, we deal with a simpler sub-problem that involves using a convolutional neural network with the categorical cross-entropy loss function to build a classifier that identifies single-digit numbers from custom images.\n"
   ]
  },
  {
   "cell_type": "markdown",
   "metadata": {},
   "source": [
    "First, let's load in a custom image using a URL. \\[Image from [comforthouse](https://www.comforthouse.com/floating-1-number-sign.html?utm_medium=Exinfluencer&utm_source=Exinfluencer&utm_content=000026UJ&utm_term=10006555&utm_id=NA-SkillsNetwork-Channel-SkillsNetworkCoursesIBMDeveloperSkillsNetworkML311Coursera35714171-2022-01-01).]\n"
   ]
  },
  {
   "cell_type": "code",
   "execution_count": 30,
   "metadata": {
    "tags": []
   },
   "outputs": [
    {
     "data": {
      "image/png": "[encoded data removed]",
      "text/plain": [
       "<PIL.Image.Image image mode=RGB size=225x225 at 0x7F2743809790>"
      ]
     },
     "execution_count": 30,
     "metadata": {},
     "output_type": "execute_result"
    }
   ],
   "source": [
    "URL = 'https://cf-courses-data.s3.us.cloud-object-storage.appdomain.cloud/IBMDeveloperSkillsNetwork-ML311-Coursera/images/house_number_5.jpeg'\n",
    "image = Image.open(urlopen(URL)).convert('RGB')\n",
    "image"
   ]
  },
  {
   "cell_type": "markdown",
   "metadata": {},
   "source": [
    "Let us define a CNN architecture that is similar to one used for MNIST hand-written digit classification. We use a softmax as the activation function and categorical cross-entropy as the loss function as this is a multi-class classification problem.\n"
   ]
  },
  {
   "cell_type": "code",
   "execution_count": 31,
   "metadata": {
    "tags": []
   },
   "outputs": [
    {
     "name": "stderr",
     "output_type": "stream",
     "text": [
      "WARNING:absl:`lr` is deprecated, please use `learning_rate` instead, or use the legacy optimizer, e.g.,tf.keras.optimizers.legacy.Adam.\n"
     ]
    },
    {
     "name": "stdout",
     "output_type": "stream",
     "text": [
      "Epoch 1/25\n",
      "9600/9600 [==============================] - 137s 14ms/step - loss: 0.4701 - accuracy: 0.8588 - val_loss: 0.2764 - val_accuracy: 0.9204\n",
      "Epoch 2/25\n",
      "9600/9600 [==============================] - 34s 4ms/step - loss: 0.2754 - accuracy: 0.9209 - val_loss: 0.2517 - val_accuracy: 0.9306\n",
      "Epoch 3/25\n",
      "9600/9600 [==============================] - 36s 4ms/step - loss: 0.2409 - accuracy: 0.9296 - val_loss: 0.2643 - val_accuracy: 0.9250\n",
      "Epoch 4/25\n",
      "9600/9600 [==============================] - 33s 3ms/step - loss: 0.2226 - accuracy: 0.9353 - val_loss: 0.2295 - val_accuracy: 0.9341\n",
      "Epoch 5/25\n",
      "9600/9600 [==============================] - 36s 4ms/step - loss: 0.2114 - accuracy: 0.9381 - val_loss: 0.2316 - val_accuracy: 0.9315\n",
      "Epoch 6/25\n",
      "9600/9600 [==============================] - 35s 4ms/step - loss: 0.2017 - accuracy: 0.9407 - val_loss: 0.2102 - val_accuracy: 0.9406\n",
      "Epoch 7/25\n",
      "9600/9600 [==============================] - 36s 4ms/step - loss: 0.1943 - accuracy: 0.9424 - val_loss: 0.2174 - val_accuracy: 0.9383\n",
      "Epoch 8/25\n",
      "9600/9600 [==============================] - 34s 4ms/step - loss: 0.1877 - accuracy: 0.9440 - val_loss: 0.2233 - val_accuracy: 0.9363\n",
      "Epoch 9/25\n",
      "9600/9600 [==============================] - 35s 4ms/step - loss: 0.1819 - accuracy: 0.9459 - val_loss: 0.2054 - val_accuracy: 0.9410\n",
      "Epoch 10/25\n",
      "9600/9600 [==============================] - 37s 4ms/step - loss: 0.1781 - accuracy: 0.9470 - val_loss: 0.2097 - val_accuracy: 0.9406\n",
      "Epoch 11/25\n",
      "9600/9600 [==============================] - 35s 4ms/step - loss: 0.1747 - accuracy: 0.9479 - val_loss: 0.2080 - val_accuracy: 0.9410\n",
      "Epoch 12/25\n",
      "9600/9600 [==============================] - 36s 4ms/step - loss: 0.1703 - accuracy: 0.9491 - val_loss: 0.2205 - val_accuracy: 0.9389\n",
      "Epoch 13/25\n",
      "9600/9600 [==============================] - 34s 4ms/step - loss: 0.1662 - accuracy: 0.9508 - val_loss: 0.2288 - val_accuracy: 0.9364\n",
      "Epoch 14/25\n",
      "9600/9600 [==============================] - 54s 6ms/step - loss: 0.1654 - accuracy: 0.9497 - val_loss: 0.2086 - val_accuracy: 0.9417\n",
      "Epoch 15/25\n",
      "9600/9600 [==============================] - 35s 4ms/step - loss: 0.1614 - accuracy: 0.9514 - val_loss: 0.2038 - val_accuracy: 0.9423\n",
      "Epoch 16/25\n",
      "9600/9600 [==============================] - 36s 4ms/step - loss: 0.1599 - accuracy: 0.9521 - val_loss: 0.2122 - val_accuracy: 0.9413\n",
      "Epoch 17/25\n",
      "9600/9600 [==============================] - 38s 4ms/step - loss: 0.1590 - accuracy: 0.9520 - val_loss: 0.2054 - val_accuracy: 0.9418\n",
      "Epoch 18/25\n",
      "9600/9600 [==============================] - 38s 4ms/step - loss: 0.1557 - accuracy: 0.9535 - val_loss: 0.2126 - val_accuracy: 0.9413\n",
      "Epoch 19/25\n",
      "9600/9600 [==============================] - 36s 4ms/step - loss: 0.1545 - accuracy: 0.9533 - val_loss: 0.2127 - val_accuracy: 0.9417\n",
      "Epoch 20/25\n",
      "9600/9600 [==============================] - 36s 4ms/step - loss: 0.1534 - accuracy: 0.9539 - val_loss: 0.2179 - val_accuracy: 0.9410\n",
      "Epoch 21/25\n",
      "9600/9600 [==============================] - 35s 4ms/step - loss: 0.1509 - accuracy: 0.9539 - val_loss: 0.2144 - val_accuracy: 0.9411\n",
      "Epoch 22/25\n",
      "9600/9600 [==============================] - 37s 4ms/step - loss: 0.1493 - accuracy: 0.9555 - val_loss: 0.2175 - val_accuracy: 0.9411\n",
      "Epoch 23/25\n",
      "9600/9600 [==============================] - 36s 4ms/step - loss: 0.1476 - accuracy: 0.9548 - val_loss: 0.2259 - val_accuracy: 0.9382\n",
      "Epoch 24/25\n",
      "9600/9600 [==============================] - 38s 4ms/step - loss: 0.1473 - accuracy: 0.9552 - val_loss: 0.2199 - val_accuracy: 0.9388\n",
      "Epoch 25/25\n",
      "9600/9600 [==============================] - 36s 4ms/step - loss: 0.1462 - accuracy: 0.9545 - val_loss: 0.2249 - val_accuracy: 0.9388\n"
     ]
    }
   ],
   "source": [
    "feature_vector_shape,input_shape = 784,784\n",
    "num_classes = 10\n",
    "loss_function_used = CategoricalCrossentropy(from_logits=True)\n",
    "model = Sequential()\n",
    "model.add(Dense(12, input_shape=(input_shape,), activation='relu', kernel_initializer='he_uniform'))\n",
    "model.add(Dense(8, activation='relu', kernel_initializer='he_uniform'))\n",
    "model.add(Dense(num_classes, activation='softmax'))\n",
    "\n",
    "model.compile(loss=loss_function_used, optimizer=tf.keras.optimizers.Adam(lr=0.001), metrics=['accuracy'])\n",
    "history = model.fit(X_train, y_train_enc, epochs=25, batch_size=5, verbose=1, validation_split=0.2)"
   ]
  },
  {
   "cell_type": "markdown",
   "metadata": {},
   "source": [
    "We must now pre-process our raw input images to be grayscale and 28x28 in size.\n"
   ]
  },
  {
   "cell_type": "code",
   "execution_count": 32,
   "metadata": {
    "tags": []
   },
   "outputs": [
    {
     "data": {
      "image/png": "[encoded data removed]",
      "text/plain": [
       "<PIL.Image.Image image mode=L size=28x28 at 0x7F27438CB810>"
      ]
     },
     "execution_count": 32,
     "metadata": {},
     "output_type": "execute_result"
    }
   ],
   "source": [
    "img_rows, img_cols = 28, 28\n",
    "img = Image.fromarray(np.uint8(image)).convert('L')\n",
    "img_gray = img.resize((img_rows, img_cols), Image.ANTIALIAS)\n",
    "img_gray"
   ]
  },
  {
   "cell_type": "markdown",
   "metadata": {},
   "source": [
    "We will now convert the image to an array, and reshape it such that it has a dimension of (1, 784).\n"
   ]
  },
  {
   "cell_type": "code",
   "execution_count": 33,
   "metadata": {
    "tags": []
   },
   "outputs": [],
   "source": [
    "arr = np.array(img_gray)\n",
    "arr = arr.reshape((img_cols*img_rows))\n",
    "arr = np.expand_dims(arr, axis=0)"
   ]
  },
  {
   "cell_type": "markdown",
   "metadata": {},
   "source": [
    "Finally, we will feed the array as an input to our model, and use the argmax function to determine the most likely digit label.\n"
   ]
  },
  {
   "cell_type": "code",
   "execution_count": 34,
   "metadata": {
    "tags": []
   },
   "outputs": [
    {
     "name": "stdout",
     "output_type": "stream",
     "text": [
      "1/1 [==============================] - 0s 194ms/step\n"
     ]
    },
    {
     "data": {
      "text/plain": [
       "2"
      ]
     },
     "execution_count": 34,
     "metadata": {},
     "output_type": "execute_result"
    }
   ],
   "source": [
    "prediction = model.predict(arr)\n",
    "np.argmax(prediction)"
   ]
  },
  {
   "cell_type": "markdown",
   "metadata": {},
   "source": [
    "We got it right! You are free to experiment with different custom images by simply changing the URL.\n"
   ]
  },
  {
   "cell_type": "markdown",
   "metadata": {},
   "source": [
    "# Exercises\n"
   ]
  },
  {
   "cell_type": "markdown",
   "metadata": {},
   "source": [
    "For these exercises, we will be using the Fashion-MNIST dataset. It consists of 60,000 28x28 grayscale training images and 10,000 test images for 10 different categories, listed below:\n"
   ]
  },
  {
   "cell_type": "markdown",
   "metadata": {},
   "source": [
    "0.  T-shirt\n",
    "1.  Trouser\n",
    "2.  Pullover\n",
    "3.  Dress\n",
    "4.  Coat\n",
    "5.  Sandal\n",
    "6.  Shirt\n",
    "7.  Sneaker\n",
    "8.  Bag\n",
    "9.  Ankle boot\n"
   ]
  },
  {
   "cell_type": "markdown",
   "metadata": {},
   "source": [
    "### Exercise 1 - Loading and plotting the images\n"
   ]
  },
  {
   "cell_type": "markdown",
   "metadata": {},
   "source": [
    "Similar to the MNIST hand-written digits dataset, Fashion-MNIST is available for loading through Keras. Load the dataset using Keras in a similar manner. Plot some sample images from the training set.\n"
   ]
  },
  {
   "cell_type": "code",
   "execution_count": 35,
   "metadata": {
    "tags": []
   },
   "outputs": [
    {
     "name": "stdout",
     "output_type": "stream",
     "text": [
      "Downloading data from https://storage.googleapis.com/tensorflow/tf-keras-datasets/train-labels-idx1-ubyte.gz\n",
      "29515/29515 [==============================] - 0s 1us/step\n",
      "Downloading data from https://storage.googleapis.com/tensorflow/tf-keras-datasets/train-images-idx3-ubyte.gz\n",
      "26421880/26421880 [==============================] - 0s 0us/step\n",
      "Downloading data from https://storage.googleapis.com/tensorflow/tf-keras-datasets/t10k-labels-idx1-ubyte.gz\n",
      "5148/5148 [==============================] - 0s 0us/step\n",
      "Downloading data from https://storage.googleapis.com/tensorflow/tf-keras-datasets/t10k-images-idx3-ubyte.gz\n",
      "4422102/4422102 [==============================] - 0s 0us/step\n"
     ]
    },
    {
     "data": {
      "image/png": "[encoded data removed]",
      "text/plain": [
       "<Figure size 600x600 with 4 Axes>"
      ]
     },
     "metadata": {},
     "output_type": "display_data"
    }
   ],
   "source": [
    "(X_train, y_train), (X_test, y_test) = fashion_mnist.load_data()\n",
    "\n",
    "plt.rcParams['figure.figsize'] = (6,6) \n",
    "\n",
    "for i in range(4):\n",
    "    plt.subplot(2,2,i+1)\n",
    "    num = random.randint(0, len(X_train))\n",
    "    plt.imshow(X_train[num], cmap='gray', interpolation='none')\n",
    "    plt.title(\"class {}\".format(y_train[num]))\n",
    "\n",
    "plt.tight_layout()"
   ]
  },
  {
   "cell_type": "markdown",
   "metadata": {},
   "source": [
    "### Exercise 2 - Preparing the data\n"
   ]
  },
  {
   "cell_type": "markdown",
   "metadata": {},
   "source": [
    "Convert all grayscale images of size 28x28 to a 784-length vector. Change integers to 32-bit floating point numbers and normalize the input to be in the range \\[0, 1], rather than \\[0-255].\n"
   ]
  },
  {
   "cell_type": "code",
   "execution_count": 36,
   "metadata": {
    "tags": []
   },
   "outputs": [
    {
     "name": "stdout",
     "output_type": "stream",
     "text": [
      "(60000, 784)\n",
      "(10000, 784)\n"
     ]
    }
   ],
   "source": [
    "X_train = X_train.reshape(X_train.shape[0], X_train.shape[1]* X_train.shape[2])\n",
    "X_test = X_test.reshape(X_test.shape[0], X_test.shape[1] * X_test.shape[2])\n",
    "\n",
    "print(X_train.shape)\n",
    "print(X_test.shape)\n",
    "\n",
    "X_train = X_train.astype('float32')\n",
    "X_test = X_test.astype('float32')\n",
    "\n",
    "X_train /= 255\n",
    "X_test /= 255"
   ]
  },
  {
   "cell_type": "markdown",
   "metadata": {},
   "source": [
    "### Exercise 3 - One-hot encoding\n"
   ]
  },
  {
   "cell_type": "markdown",
   "metadata": {},
   "source": [
    "Create one-hot encoded representations of the target variable using the `OneHotEncoder()` function from sklearn.\n"
   ]
  },
  {
   "cell_type": "code",
   "execution_count": 37,
   "metadata": {
    "tags": []
   },
   "outputs": [
    {
     "name": "stdout",
     "output_type": "stream",
     "text": [
      "[array([0, 1, 2, 3, 4, 5, 6, 7, 8, 9], dtype=uint8)]\n"
     ]
    }
   ],
   "source": [
    "enc = OneHotEncoder(sparse=False)\n",
    "enc.fit(y_train.reshape(-1, 1))\n",
    "print(enc.categories_)\n",
    "y_train_enc = enc.transform(y_train.reshape(-1,1))\n",
    "y_test_enc = enc.transform(y_test.reshape(-1,1))"
   ]
  },
  {
   "cell_type": "markdown",
   "metadata": {},
   "source": [
    "### Exercise 4 - Build model architecture\n"
   ]
  },
  {
   "cell_type": "markdown",
   "metadata": {},
   "source": [
    "Build a CNN model with 2 hidden layers, that uses softmax as the activation function, and categorical cross-entropy as the loss function.\n"
   ]
  },
  {
   "cell_type": "code",
   "execution_count": 38,
   "metadata": {
    "tags": []
   },
   "outputs": [
    {
     "name": "stderr",
     "output_type": "stream",
     "text": [
      "WARNING:absl:`lr` is deprecated, please use `learning_rate` instead, or use the legacy optimizer, e.g.,tf.keras.optimizers.legacy.Adam.\n"
     ]
    },
    {
     "name": "stdout",
     "output_type": "stream",
     "text": [
      "Epoch 1/25\n"
     ]
    },
    {
     "name": "stderr",
     "output_type": "stream",
     "text": [
      "/home/jupyterlab/conda/envs/python/lib/python3.7/site-packages/keras/backend.py:5535: UserWarning: \"`categorical_crossentropy` received `from_logits=True`, but the `output` argument was produced by a Softmax activation and thus does not represent logits. Was this intended?\n",
      "  output, from_logits, \"Softmax\", \"categorical_crossentropy\"\n"
     ]
    },
    {
     "name": "stdout",
     "output_type": "stream",
     "text": [
      "9600/9600 [==============================] - 38s 4ms/step - loss: 0.6397 - accuracy: 0.7726 - val_loss: 0.4850 - val_accuracy: 0.8279\n",
      "Epoch 2/25\n",
      "9600/9600 [==============================] - 38s 4ms/step - loss: 0.4642 - accuracy: 0.8364 - val_loss: 0.4569 - val_accuracy: 0.8418\n",
      "Epoch 3/25\n",
      "9600/9600 [==============================] - 37s 4ms/step - loss: 0.4320 - accuracy: 0.8467 - val_loss: 0.4537 - val_accuracy: 0.8428\n",
      "Epoch 4/25\n",
      "9600/9600 [==============================] - 38s 4ms/step - loss: 0.4106 - accuracy: 0.8540 - val_loss: 0.4280 - val_accuracy: 0.8544\n",
      "Epoch 5/25\n",
      "9600/9600 [==============================] - 36s 4ms/step - loss: 0.3982 - accuracy: 0.8572 - val_loss: 0.4149 - val_accuracy: 0.8568\n",
      "Epoch 6/25\n",
      "9600/9600 [==============================] - 38s 4ms/step - loss: 0.3887 - accuracy: 0.8612 - val_loss: 0.4504 - val_accuracy: 0.8425\n",
      "Epoch 7/25\n",
      "9600/9600 [==============================] - 38s 4ms/step - loss: 0.3820 - accuracy: 0.8630 - val_loss: 0.4200 - val_accuracy: 0.8583\n",
      "Epoch 8/25\n",
      "9600/9600 [==============================] - 37s 4ms/step - loss: 0.3751 - accuracy: 0.8643 - val_loss: 0.4089 - val_accuracy: 0.8572\n",
      "Epoch 9/25\n",
      "9600/9600 [==============================] - 38s 4ms/step - loss: 0.3712 - accuracy: 0.8660 - val_loss: 0.4278 - val_accuracy: 0.8541\n",
      "Epoch 10/25\n",
      "9600/9600 [==============================] - 37s 4ms/step - loss: 0.3653 - accuracy: 0.8668 - val_loss: 0.4035 - val_accuracy: 0.8585\n",
      "Epoch 11/25\n",
      "9600/9600 [==============================] - 38s 4ms/step - loss: 0.3605 - accuracy: 0.8700 - val_loss: 0.4134 - val_accuracy: 0.8590\n",
      "Epoch 12/25\n",
      "9600/9600 [==============================] - 38s 4ms/step - loss: 0.3581 - accuracy: 0.8698 - val_loss: 0.4166 - val_accuracy: 0.8572\n",
      "Epoch 13/25\n",
      "9600/9600 [==============================] - 37s 4ms/step - loss: 0.3554 - accuracy: 0.8708 - val_loss: 0.4064 - val_accuracy: 0.8603\n",
      "Epoch 14/25\n",
      "9600/9600 [==============================] - 42s 4ms/step - loss: 0.3499 - accuracy: 0.8740 - val_loss: 0.4153 - val_accuracy: 0.8607\n",
      "Epoch 15/25\n",
      "9600/9600 [==============================] - 42s 4ms/step - loss: 0.3490 - accuracy: 0.8738 - val_loss: 0.4255 - val_accuracy: 0.8606\n",
      "Epoch 16/25\n",
      "9600/9600 [==============================] - 34s 4ms/step - loss: 0.3493 - accuracy: 0.8739 - val_loss: 0.4042 - val_accuracy: 0.8583\n",
      "Epoch 17/25\n",
      "9600/9600 [==============================] - 35s 4ms/step - loss: 0.3443 - accuracy: 0.8753 - val_loss: 0.4272 - val_accuracy: 0.8527\n",
      "Epoch 18/25\n",
      "9600/9600 [==============================] - 35s 4ms/step - loss: 0.3428 - accuracy: 0.8759 - val_loss: 0.4030 - val_accuracy: 0.8634\n",
      "Epoch 19/25\n",
      "9600/9600 [==============================] - 35s 4ms/step - loss: 0.3399 - accuracy: 0.8762 - val_loss: 0.4199 - val_accuracy: 0.8595\n",
      "Epoch 20/25\n",
      "9600/9600 [==============================] - 35s 4ms/step - loss: 0.3383 - accuracy: 0.8780 - val_loss: 0.4012 - val_accuracy: 0.8619\n",
      "Epoch 21/25\n",
      "9600/9600 [==============================] - 35s 4ms/step - loss: 0.3366 - accuracy: 0.8785 - val_loss: 0.4123 - val_accuracy: 0.8602\n",
      "Epoch 22/25\n",
      "9600/9600 [==============================] - 34s 4ms/step - loss: 0.3338 - accuracy: 0.8777 - val_loss: 0.4060 - val_accuracy: 0.8603\n",
      "Epoch 23/25\n",
      "9600/9600 [==============================] - 35s 4ms/step - loss: 0.3333 - accuracy: 0.8783 - val_loss: 0.4306 - val_accuracy: 0.8567\n",
      "Epoch 24/25\n",
      "9600/9600 [==============================] - 35s 4ms/step - loss: 0.3317 - accuracy: 0.8784 - val_loss: 0.4206 - val_accuracy: 0.8608\n",
      "Epoch 25/25\n",
      "9600/9600 [==============================] - 34s 4ms/step - loss: 0.3307 - accuracy: 0.8787 - val_loss: 0.4165 - val_accuracy: 0.8612\n",
      "313/313 [==============================] - 1s 2ms/step - loss: 0.4289 - accuracy: 0.8523\n",
      "Test results - Loss: 0.42887598276138306 - Accuracy: 85.22999882698059%\n"
     ]
    }
   ],
   "source": [
    "feature_vector_shape = X_train.shape[1]\n",
    "input_shape = (feature_vector_shape,)\n",
    "num_classes = 10\n",
    "loss_function_used = CategoricalCrossentropy(from_logits=True)\n",
    "\n",
    "model = Sequential()\n",
    "model.add(Dense(12, input_shape=input_shape, activation='relu', kernel_initializer='he_uniform'))\n",
    "model.add(Dense(8, activation='relu', kernel_initializer='he_uniform'))\n",
    "model.add(Dense(num_classes, activation='softmax'))\n",
    "\n",
    "model.compile(loss=loss_function_used, optimizer=tf.keras.optimizers.Adam(lr=0.001), metrics=['accuracy'])\n",
    "history = model.fit(X_train, y_train_enc, epochs=25, batch_size=5, verbose=1, validation_split=0.2)\n",
    "\n",
    "test_results = model.evaluate(X_test, y_test_enc, verbose=1)\n",
    "print(f'Test results - Loss: {test_results[0]} - Accuracy: {test_results[1]*100}%')"
   ]
  },
  {
   "cell_type": "markdown",
   "metadata": {},
   "source": [
    "### (Optional) Exercise 5 - Sparse Categorical Cross Entropy\n"
   ]
  },
  {
   "cell_type": "markdown",
   "metadata": {},
   "source": [
    "We saw that when using categorical cross-entropy, the ground truth labels need to be one-hot encoded. Keras provides another loss function called sparse cross-entropy where we can leave the labels as integers.\n",
    "\n",
    "Build a CNN model with two hidden layers, that uses softmax as the activation function, and sparse categorical cross-entropy as the loss function. Make sure to use the non-one-hot encoded ground-truth labels.  \n"
   ]
  },
  {
   "cell_type": "code",
   "execution_count": 39,
   "metadata": {
    "tags": []
   },
   "outputs": [
    {
     "name": "stderr",
     "output_type": "stream",
     "text": [
      "WARNING:absl:`lr` is deprecated, please use `learning_rate` instead, or use the legacy optimizer, e.g.,tf.keras.optimizers.legacy.Adam.\n"
     ]
    },
    {
     "name": "stdout",
     "output_type": "stream",
     "text": [
      "Epoch 1/25\n",
      "9600/9600 [==============================] - 36s 4ms/step - loss: 0.6675 - accuracy: 0.7641 - val_loss: 0.5039 - val_accuracy: 0.8264\n",
      "Epoch 2/25\n",
      "9600/9600 [==============================] - 35s 4ms/step - loss: 0.4760 - accuracy: 0.8342 - val_loss: 0.4680 - val_accuracy: 0.8339\n",
      "Epoch 3/25\n",
      "9600/9600 [==============================] - 36s 4ms/step - loss: 0.4410 - accuracy: 0.8455 - val_loss: 0.4481 - val_accuracy: 0.8439\n",
      "Epoch 4/25\n",
      "9600/9600 [==============================] - 35s 4ms/step - loss: 0.4199 - accuracy: 0.8531 - val_loss: 0.4367 - val_accuracy: 0.8461\n",
      "Epoch 5/25\n",
      "9600/9600 [==============================] - 35s 4ms/step - loss: 0.4035 - accuracy: 0.8554 - val_loss: 0.4470 - val_accuracy: 0.8382\n",
      "Epoch 6/25\n",
      "9600/9600 [==============================] - 35s 4ms/step - loss: 0.3925 - accuracy: 0.8597 - val_loss: 0.4482 - val_accuracy: 0.8417\n",
      "Epoch 7/25\n",
      "9600/9600 [==============================] - 38s 4ms/step - loss: 0.3850 - accuracy: 0.8639 - val_loss: 0.4137 - val_accuracy: 0.8583\n",
      "Epoch 8/25\n",
      "9600/9600 [==============================] - 37s 4ms/step - loss: 0.3782 - accuracy: 0.8646 - val_loss: 0.4562 - val_accuracy: 0.8449\n",
      "Epoch 9/25\n",
      "9600/9600 [==============================] - 37s 4ms/step - loss: 0.3719 - accuracy: 0.8654 - val_loss: 0.4057 - val_accuracy: 0.8595\n",
      "Epoch 10/25\n",
      "9600/9600 [==============================] - 36s 4ms/step - loss: 0.3683 - accuracy: 0.8672 - val_loss: 0.4219 - val_accuracy: 0.8522\n",
      "Epoch 11/25\n",
      "9600/9600 [==============================] - 35s 4ms/step - loss: 0.3636 - accuracy: 0.8695 - val_loss: 0.4164 - val_accuracy: 0.8540\n",
      "Epoch 12/25\n",
      "9600/9600 [==============================] - 36s 4ms/step - loss: 0.3608 - accuracy: 0.8714 - val_loss: 0.4016 - val_accuracy: 0.8622\n",
      "Epoch 13/25\n",
      "9600/9600 [==============================] - 35s 4ms/step - loss: 0.3579 - accuracy: 0.8714 - val_loss: 0.4203 - val_accuracy: 0.8554\n",
      "Epoch 14/25\n",
      "9600/9600 [==============================] - 37s 4ms/step - loss: 0.3566 - accuracy: 0.8724 - val_loss: 0.4055 - val_accuracy: 0.8606\n",
      "Epoch 15/25\n",
      "9600/9600 [==============================] - 33s 3ms/step - loss: 0.3512 - accuracy: 0.8730 - val_loss: 0.4103 - val_accuracy: 0.8587\n",
      "Epoch 16/25\n",
      "9600/9600 [==============================] - 34s 3ms/step - loss: 0.3475 - accuracy: 0.8752 - val_loss: 0.4072 - val_accuracy: 0.8600\n",
      "Epoch 17/25\n",
      "9600/9600 [==============================] - 34s 4ms/step - loss: 0.3463 - accuracy: 0.8756 - val_loss: 0.4034 - val_accuracy: 0.8580\n",
      "Epoch 18/25\n",
      "9600/9600 [==============================] - 34s 3ms/step - loss: 0.3430 - accuracy: 0.8752 - val_loss: 0.4313 - val_accuracy: 0.8531\n",
      "Epoch 19/25\n",
      "9600/9600 [==============================] - 34s 4ms/step - loss: 0.3435 - accuracy: 0.8765 - val_loss: 0.4331 - val_accuracy: 0.8534\n",
      "Epoch 20/25\n",
      "9600/9600 [==============================] - 34s 4ms/step - loss: 0.3390 - accuracy: 0.8781 - val_loss: 0.4234 - val_accuracy: 0.8497\n",
      "Epoch 21/25\n",
      "9600/9600 [==============================] - 34s 4ms/step - loss: 0.3389 - accuracy: 0.8774 - val_loss: 0.4085 - val_accuracy: 0.8558\n",
      "Epoch 22/25\n",
      "9600/9600 [==============================] - 33s 3ms/step - loss: 0.3365 - accuracy: 0.8782 - val_loss: 0.4235 - val_accuracy: 0.8501\n",
      "Epoch 23/25\n",
      "9600/9600 [==============================] - 34s 4ms/step - loss: 0.3347 - accuracy: 0.8791 - val_loss: 0.4194 - val_accuracy: 0.8583\n",
      "Epoch 24/25\n",
      "9600/9600 [==============================] - 34s 4ms/step - loss: 0.3342 - accuracy: 0.8789 - val_loss: 0.4154 - val_accuracy: 0.8572\n",
      "Epoch 25/25\n",
      "9600/9600 [==============================] - 33s 3ms/step - loss: 0.3326 - accuracy: 0.8786 - val_loss: 0.4052 - val_accuracy: 0.8608\n",
      "313/313 [==============================] - 1s 2ms/step - loss: 0.4439 - accuracy: 0.8513\n",
      "Test results - Loss: 0.44388633966445923 - Accuracy: 85.13000011444092%\n"
     ]
    }
   ],
   "source": [
    "feature_vector_shape = X_train.shape[1]\n",
    "input_shape = (feature_vector_shape,)\n",
    "num_classes = 10\n",
    "loss_function_used = SparseCategoricalCrossentropy()\n",
    "\n",
    "model = Sequential()\n",
    "model.add(Dense(12, input_shape=input_shape, activation='relu', kernel_initializer='he_uniform'))\n",
    "model.add(Dense(8, activation='relu', kernel_initializer='he_uniform'))\n",
    "model.add(Dense(num_classes, activation='softmax'))\n",
    "\n",
    "model.compile(loss=loss_function_used, optimizer=tf.keras.optimizers.Adam(lr=0.001), metrics=['accuracy'])\n",
    "history = model.fit(X_train, y_train, epochs=25, batch_size=5, verbose=1, validation_split=0.2)\n",
    "\n",
    "test_results = model.evaluate(X_test, y_test, verbose=1)\n",
    "print(f'Test results - Loss: {test_results[0]} - Accuracy: {test_results[1]*100}%')"
   ]
  },
  {
   "cell_type": "markdown",
   "metadata": {},
   "source": [
    "## References\n"
   ]
  },
  {
   "cell_type": "markdown",
   "metadata": {},
   "source": [
    "Bishop, C., 2006. Pattern Recognition and Machine Learning.\n"
   ]
  },
  {
   "cell_type": "markdown",
   "metadata": {},
   "source": [
    "## Authors\n"
   ]
  },
  {
   "cell_type": "markdown",
   "metadata": {},
   "source": [
    "[Kopal Garg](https://www.linkedin.com/in/gargkopal/?utm_medium=Exinfluencer&utm_source=Exinfluencer&utm_content=000026UJ&utm_term=10006555&utm_id=NA-SkillsNetwork-Channel-SkillsNetworkCoursesIBMDeveloperSkillsNetworkML311Coursera35714171-2022-01-01)\n"
   ]
  },
  {
   "cell_type": "markdown",
   "metadata": {},
   "source": [
    "## Change Log\n"
   ]
  },
  {
   "cell_type": "markdown",
   "metadata": {},
   "source": [
    "|Date (YYYY-MM-DD)|Version|Changed By|Change Description|\n",
    "|-|-|-|-|\n",
    "|2022-05-20|0.1|Kopal Garg|Create Lab|\n",
    "|2022-09-06|0.1|Steve Hord|QA pass edits|\n"
   ]
  },
  {
   "cell_type": "markdown",
   "metadata": {},
   "source": [
    "Copyright © 2022 IBM Corporation. All rights reserved.\n"
   ]
  }
 ],
 "metadata": {
  "kernelspec": {
   "display_name": "Python",
   "language": "python",
   "name": "conda-env-python-py"
  },
  "language_info": {
   "codemirror_mode": {
    "name": "ipython",
    "version": 3
   },
   "file_extension": ".py",
   "mimetype": "text/x-python",
   "name": "python",
   "nbconvert_exporter": "python",
   "pygments_lexer": "ipython3",
   "version": "3.7.12"
  },
  "prev_pub_hash": "7c554d395fcc33239e85a68a8ac8696e4a54ba7070f2eb51e600e9d7ce57417d"
 },
 "nbformat": 4,
 "nbformat_minor": 4
}
